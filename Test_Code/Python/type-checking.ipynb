{
 "cells": [
  {
   "cell_type": "code",
   "execution_count": 1,
   "metadata": {},
   "outputs": [
    {
     "data": {
      "text/plain": [
       "'ab'"
      ]
     },
     "execution_count": 1,
     "metadata": {},
     "output_type": "execute_result"
    }
   ],
   "source": [
    "from typing import Union\n",
    "\n",
    "U = Union[int, float]\n",
    "\n",
    "\n",
    "def add(x: U, y: U) -> U:\n",
    "    return x + y\n",
    "\n",
    "\n",
    "add(1,2) # okay: both variables are an int\n",
    "add(1, 2.0) # okay one variable is an int and the other is a float\n",
    "add(\"a\", 'b') # error: variables do not match int or float"
   ]
  },
  {
   "cell_type": "code",
   "execution_count": 2,
   "metadata": {},
   "outputs": [
    {
     "ename": "TypeError",
     "evalue": "can only concatenate str (not \"float\") to str",
     "output_type": "error",
     "traceback": [
      "\u001b[0;31m---------------------------------------------------------------------------\u001b[0m",
      "\u001b[0;31mTypeError\u001b[0m                                 Traceback (most recent call last)",
      "Cell \u001b[0;32mIn [2], line 13\u001b[0m\n\u001b[1;32m     11\u001b[0m add2(\u001b[39m\"\u001b[39m\u001b[39ma\u001b[39m\u001b[39m\"\u001b[39m, \u001b[39m\"\u001b[39m\u001b[39mb\u001b[39m\u001b[39m\"\u001b[39m) \u001b[39m# okay: variables match\u001b[39;00m\n\u001b[1;32m     12\u001b[0m add2(\u001b[39m1\u001b[39m, \u001b[39m2.0\u001b[39m) \u001b[39m# complains that variables don't match\u001b[39;00m\n\u001b[0;32m---> 13\u001b[0m add2(\u001b[39m\"\u001b[39;49m\u001b[39mfoo\u001b[39;49m\u001b[39m\"\u001b[39;49m, \u001b[39m2.0\u001b[39;49m) \u001b[39m# complains that variables don't match\u001b[39;00m\n",
      "Cell \u001b[0;32mIn [2], line 7\u001b[0m, in \u001b[0;36madd2\u001b[0;34m(var1, var2)\u001b[0m\n\u001b[1;32m      6\u001b[0m \u001b[39mdef\u001b[39;00m \u001b[39madd2\u001b[39m(var1: T, var2: T) \u001b[39m-\u001b[39m\u001b[39m>\u001b[39m T:\n\u001b[0;32m----> 7\u001b[0m     \u001b[39mreturn\u001b[39;00m var1 \u001b[39m+\u001b[39;49m var2\n",
      "\u001b[0;31mTypeError\u001b[0m: can only concatenate str (not \"float\") to str"
     ]
    }
   ],
   "source": [
    "from typing import TypeVar\n",
    "\n",
    "T = TypeVar(\"T\", int, str)\n",
    "\n",
    "\n",
    "def add2(var1: T, var2: T) -> T:\n",
    "    return var1 + var2\n",
    "\n",
    "\n",
    "add2(1, 2) # okay: variables match\n",
    "add2(\"a\", \"b\") # okay: variables match\n",
    "add2(1, 2.0) # complains that variables don't match\n",
    "add2(\"foo\", 2.0) # complains that variables don't match"
   ]
  },
  {
   "cell_type": "code",
   "execution_count": null,
   "metadata": {},
   "outputs": [],
   "source": []
  },
  {
   "cell_type": "code",
   "execution_count": null,
   "metadata": {},
   "outputs": [],
   "source": []
  }
 ],
 "metadata": {
  "kernelspec": {
   "display_name": "Python 3.10.0 64-bit ('ads')",
   "language": "python",
   "name": "python3"
  },
  "language_info": {
   "codemirror_mode": {
    "name": "ipython",
    "version": 3
   },
   "file_extension": ".py",
   "mimetype": "text/x-python",
   "name": "python",
   "nbconvert_exporter": "python",
   "pygments_lexer": "ipython3",
   "version": "3.10.0"
  },
  "orig_nbformat": 4,
  "vscode": {
   "interpreter": {
    "hash": "eff0ed8e314ab2685d4c296168e2fff63c78bb3378b5378ac8cbb933f4f201ea"
   }
  }
 },
 "nbformat": 4,
 "nbformat_minor": 2
}
