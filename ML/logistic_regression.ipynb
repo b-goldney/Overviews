{
 "cells": [
  {
   "cell_type": "markdown",
   "metadata": {},
   "source": [
    "# Logistic Regression\n",
    "- The purpose of this notebook is to provide a theoretical background for logistic regression, and build a logistic regression model from scratch.\n",
    "\n",
    "# Sources\n",
    " - These notes are largely taken from the following sources:\n",
    "     - [UCLA: How Do I Interpret Odds Ratios in Logistic Regression](www.stats.idre.ucla.edu/other/mult-pkg/faq/general/faq-how-do-i-interpret-odds-ratios-in-logistic-regression/)\n",
    "     - [Win Vector: Logistic Regression Derivation](https://win-vector.com/2011/09/14/the-simpler-derivation-of-logistic-regression/)\n",
    "     - [Boston Housing Dataset](https://www.cs.toronto.edu/~delve/data/boston/bostonDetail.html)\n",
    "     "
   ]
  },
  {
   "cell_type": "markdown",
   "metadata": {},
   "source": [
    "# Background"
   ]
  },
  {
   "cell_type": "code",
   "execution_count": null,
   "metadata": {},
   "outputs": [],
   "source": []
  },
  {
   "cell_type": "markdown",
   "metadata": {},
   "source": [
    "# Model"
   ]
  },
  {
   "cell_type": "code",
   "execution_count": 1,
   "metadata": {},
   "outputs": [],
   "source": [
    "import pandas as pd\n",
    "import numpy as np\n",
    "from sklearn.datasets import load_boston\n",
    "from sklearn.linear_model import LogisticRegression\n",
    "from sklearn.model_selection import train_test_split\n",
    "from sklearn.preprocessing import StandardScaler, LabelEncoder"
   ]
  },
  {
   "cell_type": "code",
   "execution_count": 2,
   "metadata": {},
   "outputs": [],
   "source": [
    "# load data, train-test-split, standardize independent variables\n",
    "boston = load_boston()\n",
    "X = boston.data\n",
    "y = boston.target\n",
    "col_names = boston.feature_names\n",
    "\n",
    "# convert from numpy array to pandas DF so it's easier to follow the column names\n",
    "X = pd.DataFrame(X, columns=col_names)\n",
    "y = pd.DataFrame(y, columns=['target'])\n",
    "df = pd.concat([X, y], axis=1)\n",
    "\n",
    "X_train, X_test, y_train, y_test = train_test_split(\n",
    "    df[col_names], df.target, test_size=0.33, random_state=42)\n",
    "\n",
    "scaler = StandardScaler()\n",
    "X_train = scaler.fit_transform(X_train)\n",
    "X_test = scaler.transform(X_test)"
   ]
  },
  {
   "cell_type": "markdown",
   "metadata": {},
   "source": [
    "## Example 1: Logistic regression with no predictor variables\n",
    "In an equation, we are modelling $B_0 = logit(p)$  \n",
    "where $logit(p)= \\dfrac{p}{1-p}$"
   ]
  },
  {
   "cell_type": "code",
   "execution_count": 10,
   "metadata": {},
   "outputs": [
    {
     "name": "stdout",
     "output_type": "stream",
     "text": [
      "-0.3514 <<< coefficient of intercept\n",
      "-0.3514 <<<  matches the number above\n"
     ]
    }
   ],
   "source": [
    "# Create DF\n",
    "df2 = pd.DataFrame(np.array(y), columns = ['y'])\n",
    "df2['intercept'] = 1\n",
    "df2['price_above_mean'] = df2.y > df2.y.mean()\n",
    "\n",
    "# Model\n",
    "model = LogisticRegression(fit_intercept=False, penalty='none')\n",
    "logit_result = model.fit(pd.DataFrame(df2['intercept']),df2['price_above_mean'])\n",
    "print(f\"{logit_result.coef_[0][0]:,.4}\", \"<<< coefficient of intercept\")\n",
    "\n",
    "# Manual calculation\n",
    "pct_above_mean = df2.price_above_mean.sum() / len(df2) # this is p in logit(p)\n",
    "log_odds = np.log(pct_above_mean / (1-pct_above_mean)) # this is p / (1-p)\n",
    "print(f\"{log_odds:,.4}\", \"<<<  matches the number above\")"
   ]
  },
  {
   "cell_type": "markdown",
   "metadata": {},
   "source": [
    "### Takeaway:"
   ]
  },
  {
   "cell_type": "markdown",
   "metadata": {},
   "source": [
    "The coefficient of the intercept can be interpreted as the log odds of the target occurring.  More specifically, the coefficient of the intercept is simply $ln \\dfrac{p}{(1-p)}$, where $p$ is the probability of an individual house price being above the average house price."
   ]
  },
  {
   "cell_type": "markdown",
   "metadata": {},
   "source": [
    "## Example 2: Logistic regression with one dichotomous predictor variable\n",
    "In an equation, we are modelling the following:  \n",
    "$$\n",
    "logit(p) = B_0 + B_1 * CHAS\n",
    "$$"
   ]
  },
  {
   "cell_type": "code",
   "execution_count": 40,
   "metadata": {},
   "outputs": [
    {
     "name": "stdout",
     "output_type": "stream",
     "text": [
      "-0.4002 <<< coefficient of B_0\n",
      "0.6878 <<< coefficient of B_1\n"
     ]
    }
   ],
   "source": [
    "# Create DF\n",
    "df2 = pd.DataFrame(np.array(y), columns = ['y'])\n",
    "df2['CHAS'] = df.CHAS\n",
    "df2['intercept'] = 1\n",
    "df2['price_above_mean'] = df2.y > df2.y.mean()\n",
    "\n",
    "# Model\n",
    "model = LogisticRegression(fit_intercept=False, penalty='none')\n",
    "logit_result = model.fit(pd.DataFrame(df2[['intercept','CHAS']]),df2.price_above_mean)\n",
    "\n",
    "# print(f\"{logit_result.intercept_[0]:,.4}\", \"<<< coefficient of intercept\")\n",
    "print(f\"{logit_result.coef_[0][0]:,.4}\", \"<<< coefficient of B_0\")\n",
    "print(f\"{logit_result.coef_[0][1]:,.4}\", \"<<< coefficient of B_1\")"
   ]
  },
  {
   "cell_type": "code",
   "execution_count": 56,
   "metadata": {},
   "outputs": [
    {
     "data": {
      "text/plain": [
       "CHAS  price_above_mean\n",
       "0.0   False               282\n",
       "      True                189\n",
       "1.0   True                 20\n",
       "      False                15\n",
       "Name: price_above_mean, dtype: int64"
      ]
     },
     "execution_count": 56,
     "metadata": {},
     "output_type": "execute_result"
    }
   ],
   "source": [
    "# Use this output to calculate B_0 and B_1\n",
    "df2.groupby('CHAS')['price_above_mean'].value_counts()"
   ]
  },
  {
   "cell_type": "code",
   "execution_count": 55,
   "metadata": {},
   "outputs": [
    {
     "name": "stdout",
     "output_type": "stream",
     "text": [
      "-0.4002 <<< matches B_0\n",
      "0.6878 <<< matches B_1\n"
     ]
    }
   ],
   "source": [
    "# Calculate B_0\n",
    "chas_0_odds = (189 / (282+189)) / (282 / (282+189))\n",
    "B_0 = np.log(chas_0_odds)\n",
    "\n",
    "# Calculate B_1\n",
    "chas_1_odds = (20 / (20+15)) / (15 / (20+15))\n",
    "B_1 = np.log(chas_1_odds / chas_0_odds)\n",
    "\n",
    "print(f\"{B_0:,.4}\", \"<<< matches B_0\")\n",
    "print(f\"{B_1:,.4}\", \"<<< matches B_1\")"
   ]
  },
  {
   "cell_type": "markdown",
   "metadata": {},
   "source": [
    "## Takeaway"
   ]
  },
  {
   "cell_type": "code",
   "execution_count": null,
   "metadata": {},
   "outputs": [],
   "source": []
  },
  {
   "cell_type": "markdown",
   "metadata": {},
   "source": [
    "## Logistic regression with a single continuous predictor variable\n",
    "In an equation, we are modelling the following:  \n",
    "$$\n",
    "logit(p) = B_0 + B_1 * RM\n",
    "$$"
   ]
  },
  {
   "cell_type": "code",
   "execution_count": 59,
   "metadata": {},
   "outputs": [
    {
     "name": "stdout",
     "output_type": "stream",
     "text": [
      "-16.74 <<< coefficient of B_0\n",
      "2.597 <<< coefficient of B_1\n"
     ]
    }
   ],
   "source": [
    "# Create DF\n",
    "df2 = pd.DataFrame(np.array(y), columns = ['y'])\n",
    "df2['RM'] = df.RM\n",
    "df2['intercept'] = 1\n",
    "df2['price_above_mean'] = df2.y > df2.y.mean()\n",
    "\n",
    "# Model\n",
    "model = LogisticRegression(fit_intercept=False, penalty='none')\n",
    "logit_result = model.fit(pd.DataFrame(df2[['intercept','RM']]),df2.price_above_mean)\n",
    "\n",
    "# print(f\"{logit_result.intercept_[0]:,.4}\", \"<<< coefficient of intercept\")\n",
    "print(f\"{logit_result.coef_[0][0]:,.4}\", \"<<< coefficient of B_0\")\n",
    "print(f\"{logit_result.coef_[0][1]:,.4}\", \"<<< coefficient of B_1\")\n"
   ]
  },
  {
   "cell_type": "code",
   "execution_count": 73,
   "metadata": {},
   "outputs": [],
   "source": [
    "df2['rm_above_mean'] = df2.RM > df2.RM.mean()"
   ]
  },
  {
   "cell_type": "code",
   "execution_count": 78,
   "metadata": {},
   "outputs": [
    {
     "data": {
      "text/plain": [
       "rm_above_mean  price_above_mean\n",
       "False          False               229\n",
       "               True                 49\n",
       "True           True                160\n",
       "               False                68\n",
       "Name: price_above_mean, dtype: int64"
      ]
     },
     "execution_count": 78,
     "metadata": {},
     "output_type": "execute_result"
    }
   ],
   "source": [
    "# Use this output to calculate B_0 and B_1\n",
    "df2.groupby('rm_above_mean')['price_above_mean'].value_counts()"
   ]
  },
  {
   "cell_type": "code",
   "execution_count": 81,
   "metadata": {},
   "outputs": [
    {
     "data": {
      "text/plain": [
       "1.541901705443613"
      ]
     },
     "execution_count": 81,
     "metadata": {},
     "output_type": "execute_result"
    }
   ],
   "source": [
    "np.log((229 / (229+49)) / (49 / (229+49)))"
   ]
  },
  {
   "cell_type": "code",
   "execution_count": 83,
   "metadata": {},
   "outputs": [
    {
     "data": {
      "text/plain": [
       "5.3692097844149524e-08"
      ]
     },
     "execution_count": 83,
     "metadata": {},
     "output_type": "execute_result"
    }
   ],
   "source": [
    "np.exp(-16.74)"
   ]
  },
  {
   "cell_type": "code",
   "execution_count": 84,
   "metadata": {},
   "outputs": [
    {
     "data": {
      "text/plain": [
       "2.3529411764705883"
      ]
     },
     "execution_count": 84,
     "metadata": {},
     "output_type": "execute_result"
    }
   ],
   "source": [
    "(160 / (160+68)) / (68 / (160+68))"
   ]
  },
  {
   "cell_type": "code",
   "execution_count": 85,
   "metadata": {},
   "outputs": [
    {
     "data": {
      "text/plain": [
       "0.8552660300363805"
      ]
     },
     "execution_count": 85,
     "metadata": {},
     "output_type": "execute_result"
    }
   ],
   "source": [
    "np.log(2.352)"
   ]
  },
  {
   "cell_type": "code",
   "execution_count": 86,
   "metadata": {},
   "outputs": [
    {
     "data": {
      "text/plain": [
       "13.423407347176434"
      ]
     },
     "execution_count": 86,
     "metadata": {},
     "output_type": "execute_result"
    }
   ],
   "source": [
    "np.exp(2.597)"
   ]
  },
  {
   "cell_type": "markdown",
   "metadata": {},
   "source": [
    "# Miscellaneous"
   ]
  },
  {
   "cell_type": "markdown",
   "metadata": {},
   "source": [
    "## Feature Definitions\n",
    "- **CRIM**: per capita crime rate by town\n",
    "- **ZN**: proportion of residential land zoned for lots over 25,000 sq.ft.\n",
    "- **INDUS**: proportion of non-retail business acres per town.\n",
    "- **CHAS**: Charles River dummy variable (1 if tract bounds river; 0 otherwise)\n",
    "- **NOX**: nitric oxides concentration (parts per 10 million)\n",
    "- **RM**: average number of rooms per dwelling\n",
    "- **AGE**: proportion of owner-occupied units built prior to 1940\n",
    "- **DIS**: weighted distances to five Boston employment centres\n",
    "- **RAD**: index of accessibility to radial highways\n",
    "- **TAX**: full-value property-tax rate per \\$10,000\n",
    "- **PTRATIO**:  pupil-teacher ratio by town  \n",
    "- **B**: 1000(Bk - 0.63)^2 where B_k is the proportion of blacks by town\n",
    "- **LSTAT**: % lower status of the population\n",
    "- **MEDV**: Median value of owner-occupied homes in $1000's"
   ]
  },
  {
   "cell_type": "code",
   "execution_count": null,
   "metadata": {},
   "outputs": [],
   "source": []
  }
 ],
 "metadata": {
  "kernelspec": {
   "display_name": "Python 3",
   "language": "python",
   "name": "python3"
  },
  "language_info": {
   "codemirror_mode": {
    "name": "ipython",
    "version": 3
   },
   "file_extension": ".py",
   "mimetype": "text/x-python",
   "name": "python",
   "nbconvert_exporter": "python",
   "pygments_lexer": "ipython3",
   "version": "3.9.6"
  },
  "toc": {
   "base_numbering": 1,
   "nav_menu": {},
   "number_sections": true,
   "sideBar": true,
   "skip_h1_title": false,
   "title_cell": "Table of Contents",
   "title_sidebar": "Contents",
   "toc_cell": false,
   "toc_position": {
    "height": "calc(100% - 180px)",
    "left": "10px",
    "top": "150px",
    "width": "276.973px"
   },
   "toc_section_display": true,
   "toc_window_display": true
  },
  "varInspector": {
   "cols": {
    "lenName": 16,
    "lenType": 16,
    "lenVar": 40
   },
   "kernels_config": {
    "python": {
     "delete_cmd_postfix": "",
     "delete_cmd_prefix": "del ",
     "library": "var_list.py",
     "varRefreshCmd": "print(var_dic_list())"
    },
    "r": {
     "delete_cmd_postfix": ") ",
     "delete_cmd_prefix": "rm(",
     "library": "var_list.r",
     "varRefreshCmd": "cat(var_dic_list()) "
    }
   },
   "types_to_exclude": [
    "module",
    "function",
    "builtin_function_or_method",
    "instance",
    "_Feature"
   ],
   "window_display": false
  }
 },
 "nbformat": 4,
 "nbformat_minor": 4
}
