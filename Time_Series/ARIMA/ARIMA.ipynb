{
 "cells": [
  {
   "cell_type": "markdown",
   "metadata": {},
   "source": [
    "# Load Data"
   ]
  },
  {
   "cell_type": "code",
   "execution_count": 301,
   "metadata": {},
   "outputs": [],
   "source": [
    "import pandas as pd\n",
    "import numpy as np"
   ]
  },
  {
   "cell_type": "code",
   "execution_count": 302,
   "metadata": {
    "scrolled": true
   },
   "outputs": [],
   "source": [
    "df = pd.read_csv(\"df.csv\")"
   ]
  },
  {
   "cell_type": "markdown",
   "metadata": {},
   "source": [
    "# ACF\n",
    "- Manually calculate ACF and compare it against the plot created by statsmodels"
   ]
  },
  {
   "cell_type": "code",
   "execution_count": 303,
   "metadata": {},
   "outputs": [],
   "source": [
    "from scipy import stats\n",
    "import numpy as np\n",
    "# Create function to calculate lagged correlation\n",
    "def calc_corr(series, lag):\n",
    "    return stats.pearsonr(series[:-lag], series[lag:])[0]\n"
   ]
  },
  {
   "cell_type": "code",
   "execution_count": 304,
   "metadata": {},
   "outputs": [
    {
     "ename": "NameError",
     "evalue": "name 'series' is not defined",
     "output_type": "error",
     "traceback": [
      "\u001b[0;31m---------------------------------------------------------------------------\u001b[0m",
      "\u001b[0;31mNameError\u001b[0m                                 Traceback (most recent call last)",
      "\u001b[0;32m<ipython-input-304-fbe7c35b58f9>\u001b[0m in \u001b[0;36m<module>\u001b[0;34m\u001b[0m\n\u001b[1;32m      2\u001b[0m \u001b[0mmanual_acf\u001b[0m \u001b[0;34m=\u001b[0m \u001b[0;34m[\u001b[0m\u001b[0;36m1\u001b[0m\u001b[0;34m]\u001b[0m\u001b[0;34m\u001b[0m\u001b[0;34m\u001b[0m\u001b[0m\n\u001b[1;32m      3\u001b[0m \u001b[0;32mfor\u001b[0m \u001b[0mi\u001b[0m \u001b[0;32min\u001b[0m \u001b[0mrange\u001b[0m\u001b[0;34m(\u001b[0m\u001b[0;36m1\u001b[0m\u001b[0;34m,\u001b[0m\u001b[0;36m10\u001b[0m\u001b[0;34m)\u001b[0m\u001b[0;34m:\u001b[0m\u001b[0;34m\u001b[0m\u001b[0;34m\u001b[0m\u001b[0m\n\u001b[0;32m----> 4\u001b[0;31m     \u001b[0mmanual_acf\u001b[0m\u001b[0;34m.\u001b[0m\u001b[0mappend\u001b[0m\u001b[0;34m(\u001b[0m\u001b[0mnp\u001b[0m\u001b[0;34m.\u001b[0m\u001b[0mround\u001b[0m\u001b[0;34m(\u001b[0m\u001b[0mcalc_corr\u001b[0m\u001b[0;34m(\u001b[0m\u001b[0mseries\u001b[0m\u001b[0;34m,\u001b[0m\u001b[0mi\u001b[0m\u001b[0;34m)\u001b[0m\u001b[0;34m,\u001b[0m\u001b[0;36m2\u001b[0m\u001b[0;34m)\u001b[0m\u001b[0;34m)\u001b[0m\u001b[0;34m\u001b[0m\u001b[0;34m\u001b[0m\u001b[0m\n\u001b[0m\u001b[1;32m      5\u001b[0m \u001b[0mmanual_acf\u001b[0m \u001b[0;34m=\u001b[0m \u001b[0mpd\u001b[0m\u001b[0;34m.\u001b[0m\u001b[0mSeries\u001b[0m\u001b[0;34m(\u001b[0m\u001b[0mmanual_acf\u001b[0m\u001b[0;34m)\u001b[0m\u001b[0;34m\u001b[0m\u001b[0;34m\u001b[0m\u001b[0m\n",
      "\u001b[0;31mNameError\u001b[0m: name 'series' is not defined"
     ]
    }
   ],
   "source": [
    "# Save the results for the first 10 lags\n",
    "manual_acf = [1]\n",
    "for i in range(1,10):\n",
    "    manual_acf.append(np.round(calc_corr(series,i),2))\n",
    "manual_acf = pd.Series(manual_acf)"
   ]
  },
  {
   "cell_type": "code",
   "execution_count": 305,
   "metadata": {},
   "outputs": [
    {
     "ename": "NameError",
     "evalue": "name 'acf' is not defined",
     "output_type": "error",
     "traceback": [
      "\u001b[0;31m---------------------------------------------------------------------------\u001b[0m",
      "\u001b[0;31mNameError\u001b[0m                                 Traceback (most recent call last)",
      "\u001b[0;32m<ipython-input-305-6016aec02ba4>\u001b[0m in \u001b[0;36m<module>\u001b[0;34m\u001b[0m\n\u001b[1;32m      7\u001b[0m \u001b[0max1\u001b[0m\u001b[0;34m.\u001b[0m\u001b[0mset_title\u001b[0m\u001b[0;34m(\u001b[0m\u001b[0;34m\"Manual ACF Calculation\"\u001b[0m\u001b[0;34m)\u001b[0m\u001b[0;34m\u001b[0m\u001b[0;34m\u001b[0m\u001b[0m\n\u001b[1;32m      8\u001b[0m \u001b[0;34m\u001b[0m\u001b[0m\n\u001b[0;32m----> 9\u001b[0;31m \u001b[0max2\u001b[0m\u001b[0;34m.\u001b[0m\u001b[0mbar\u001b[0m\u001b[0;34m(\u001b[0m\u001b[0mrange\u001b[0m\u001b[0;34m(\u001b[0m\u001b[0mnum_lags\u001b[0m\u001b[0;34m)\u001b[0m\u001b[0;34m,\u001b[0m \u001b[0mpd\u001b[0m\u001b[0;34m.\u001b[0m\u001b[0mSeries\u001b[0m\u001b[0;34m(\u001b[0m\u001b[0macf\u001b[0m\u001b[0;34m(\u001b[0m\u001b[0mseries\u001b[0m\u001b[0;34m)\u001b[0m\u001b[0;34m[\u001b[0m\u001b[0;36m0\u001b[0m\u001b[0;34m:\u001b[0m\u001b[0;36m10\u001b[0m\u001b[0;34m]\u001b[0m\u001b[0;34m)\u001b[0m\u001b[0;34m)\u001b[0m\u001b[0;34m\u001b[0m\u001b[0;34m\u001b[0m\u001b[0m\n\u001b[0m\u001b[1;32m     10\u001b[0m \u001b[0max2\u001b[0m\u001b[0;34m.\u001b[0m\u001b[0mset_title\u001b[0m\u001b[0;34m(\u001b[0m\u001b[0;34m\"Automated ACF Calculation\"\u001b[0m\u001b[0;34m)\u001b[0m\u001b[0;34m\u001b[0m\u001b[0;34m\u001b[0m\u001b[0m\n\u001b[1;32m     11\u001b[0m \u001b[0;34m\u001b[0m\u001b[0m\n",
      "\u001b[0;31mNameError\u001b[0m: name 'acf' is not defined"
     ]
    },
    {
     "data": {
      "image/png": "[encoded data removed]",
      "text/plain": [
       "<Figure size 1080x288 with 2 Axes>"
      ]
     },
     "metadata": {
      "needs_background": "light"
     },
     "output_type": "display_data"
    }
   ],
   "source": [
    "num_lags = 10\n",
    "\n",
    "fig, (ax1,ax2) = plt.subplots(1,2, figsize=(15,4)) \n",
    "\n",
    "# Create first plot (the manual plot)\n",
    "ax1.bar(range(num_lags), manual_acf)\n",
    "ax1.set_title(\"Manual ACF Calculation\")\n",
    "\n",
    "ax2.bar(range(num_lags), pd.Series(acf(series)[0:10]))\n",
    "ax2.set_title(\"Automated ACF Calculation\")\n",
    "\n",
    "plt.show()"
   ]
  },
  {
   "cell_type": "markdown",
   "metadata": {},
   "source": [
    "We can see the above two graphs are duplicates of each other. "
   ]
  },
  {
   "cell_type": "markdown",
   "metadata": {},
   "source": [
    "# PACF"
   ]
  },
  {
   "cell_type": "code",
   "execution_count": 306,
   "metadata": {},
   "outputs": [
    {
     "ename": "NameError",
     "evalue": "name 'pacf' is not defined",
     "output_type": "error",
     "traceback": [
      "\u001b[0;31m---------------------------------------------------------------------------\u001b[0m",
      "\u001b[0;31mNameError\u001b[0m                                 Traceback (most recent call last)",
      "\u001b[0;32m<ipython-input-306-bb79fa66fa79>\u001b[0m in \u001b[0;36m<module>\u001b[0;34m\u001b[0m\n\u001b[0;32m----> 1\u001b[0;31m \u001b[0mpacf_vals\u001b[0m \u001b[0;34m=\u001b[0m \u001b[0mpacf\u001b[0m\u001b[0;34m(\u001b[0m\u001b[0mseries\u001b[0m\u001b[0;34m)\u001b[0m\u001b[0;34m\u001b[0m\u001b[0;34m\u001b[0m\u001b[0m\n\u001b[0m\u001b[1;32m      2\u001b[0m \u001b[0mnum_lags\u001b[0m \u001b[0;34m=\u001b[0m \u001b[0;36m25\u001b[0m\u001b[0;34m\u001b[0m\u001b[0;34m\u001b[0m\u001b[0m\n\u001b[1;32m      3\u001b[0m \u001b[0mplt\u001b[0m\u001b[0;34m.\u001b[0m\u001b[0mbar\u001b[0m\u001b[0;34m(\u001b[0m\u001b[0mrange\u001b[0m\u001b[0;34m(\u001b[0m\u001b[0mnum_lags\u001b[0m\u001b[0;34m)\u001b[0m\u001b[0;34m,\u001b[0m \u001b[0mpacf_vals\u001b[0m\u001b[0;34m[\u001b[0m\u001b[0;34m:\u001b[0m\u001b[0mnum_lags\u001b[0m\u001b[0;34m]\u001b[0m\u001b[0;34m)\u001b[0m\u001b[0;34m\u001b[0m\u001b[0;34m\u001b[0m\u001b[0m\n\u001b[1;32m      4\u001b[0m \u001b[0mplt\u001b[0m\u001b[0;34m.\u001b[0m\u001b[0mtitle\u001b[0m\u001b[0;34m(\u001b[0m\u001b[0;34m\"PACF\"\u001b[0m\u001b[0;34m)\u001b[0m\u001b[0;34m\u001b[0m\u001b[0;34m\u001b[0m\u001b[0m\n\u001b[1;32m      5\u001b[0m \u001b[0mplt\u001b[0m\u001b[0;34m.\u001b[0m\u001b[0mshow\u001b[0m\u001b[0;34m(\u001b[0m\u001b[0;34m)\u001b[0m\u001b[0;34m\u001b[0m\u001b[0;34m\u001b[0m\u001b[0m\n",
      "\u001b[0;31mNameError\u001b[0m: name 'pacf' is not defined"
     ]
    }
   ],
   "source": [
    "pacf_vals = pacf(series)\n",
    "num_lags = 25\n",
    "plt.bar(range(num_lags), pacf_vals[:num_lags])\n",
    "plt.title(\"PACF\")\n",
    "plt.show()"
   ]
  },
  {
   "cell_type": "markdown",
   "metadata": {},
   "source": [
    "# ARMA from Scratch"
   ]
  },
  {
   "cell_type": "code",
   "execution_count": 307,
   "metadata": {},
   "outputs": [],
   "source": [
    "import numpy as np\n",
    "import pandas as pd\n",
    "import matplotlib.pyplot as plt\n",
    "import seaborn as sns\n",
    "from sklearn.metrics import mean_squared_error\n",
    "from statsmodels.tsa.stattools import adfuller\n",
    "from statsmodels.graphics.tsaplots import plot_acf,plot_pacf\n",
    "pd.options.mode.chained_assignment = None  # default='warn'\n",
    "from statsmodels.tsa.arima_model import ARIMA\n"
   ]
  },
  {
   "cell_type": "code",
   "execution_count": 308,
   "metadata": {},
   "outputs": [],
   "source": [
    "df = pd.read_csv('df.csv',parse_dates=True,index_col='date')\n",
    "df = pd.DataFrame(df.groupby(df.index.strftime('%Y-%m')).sum()['amount'])\n",
    "df.columns=['Value']"
   ]
  },
  {
   "cell_type": "code",
   "execution_count": 309,
   "metadata": {},
   "outputs": [],
   "source": [
    "# train test split\n",
    "train_index = int(int(0.8*len(df)))\n",
    "# Train / Test\n",
    "train = df[:train_index]\n",
    "test = df[train_index:]"
   ]
  },
  {
   "cell_type": "markdown",
   "metadata": {},
   "source": [
    "## Create Class Object: myARMA"
   ]
  },
  {
   "cell_type": "code",
   "execution_count": 310,
   "metadata": {},
   "outputs": [],
   "source": [
    "class myARIMA:\n",
    "    \"\"\"\n",
    "    The goal of this class is to clearly and manually create an ARIMA class,\n",
    "    which matches the output of statsmodels' ARIMA class.  The syntax will \n",
    "    aim to be similar to sci-kit learn.  \n",
    "    \n",
    "    Note, this class is for illustrative purposes; therefore, it does not \n",
    "    attempt to optimize code run times.  Consequently, large data sets \n",
    "    should be not be used with this class.\n",
    "    \n",
    "    \"Private\" methods are declared first since that is where the crux of the\n",
    "    math is done.  Those \"private\" methods are fed into public methods.\n",
    "    \"\"\"\n",
    "    def __init__(self):\n",
    "        pass\n",
    "    \n",
    "    def __calcConstant(self, y):\n",
    "        self.mu = np.average(y)\n",
    "        \n",
    "        return self.mu\n",
    "    \n",
    "    def __AR(self, X, y):\n",
    "        # Add intercept to X values -- this is the intercept calculated from __calcConstants\n",
    "        X['Intercept'] = self.mu\n",
    "        \n",
    "        #Run linear regression to generate the coefficents of lagged terms\n",
    "        import statsmodels.api as sm\n",
    "        self.results = sm.OLS(y, X,hasconst=False).fit()        \n",
    "        \n",
    "        self.theta1 = self.results.params[0] # Save the coefficient term\n",
    "        print(f\"{self.mu:,.6f}\", \", \", f\"{self.theta1:,.6f}\", \" <<< self.mu, self.theta1\")\n",
    "        \n",
    "        return [self.mu, self.theta1]\n",
    "    \n",
    "    def __MA(self):\n",
    "        print(\"Need to build\")\n",
    "        \n",
    "    def fit(self, df, p, d, q): \n",
    "        \"\"\"\n",
    "        Do not split the input parameters for the df into X and y because\n",
    "        then the user would have to lag the variables themself.  This approach\n",
    "        feels more similar to the sklearn interface.\n",
    "        \n",
    "        The fit method's only purpose is to split the df into X and y variables.\n",
    "        \"\"\"\n",
    "        self.df = df\n",
    "        self.p = p # number of AR terms\n",
    "        self.d = d # the d is not incorporated into the model yet\n",
    "        self.q = q # number of MA terms\n",
    "        num_of_columns = len(self.df.columns)\n",
    "\n",
    "        # Calculate the intercept/constant term\n",
    "        self.mu = self.__calcConstant(self.df)\n",
    "\n",
    "        #Generating the lagged p terms\n",
    "        for i in range(1,self.p+1):\n",
    "            self.df['Shifted_values_%d' % i ] = self.df.shift(self.p)\n",
    "        \n",
    "        # Create X and Y plus remove the NaN's that arose from lagging\n",
    "        self.X = self.df.iloc[self.p:,1:]\n",
    "        self.y = np.array(self.df.iloc[self.p:,0]).reshape(-1,p)\n",
    "        \n",
    "        self.__AR(self.X, self.y) # Pass X and y to the __AR method\n",
    "        return 0\n",
    "    \n",
    "    def predict(self, test_data):\n",
    "        self.test_data = test_data # Test needs to have one column containing the y-values\n",
    "        #Generating the lagged p terms \n",
    "        for i in range(1,self.p+1):\n",
    "            self.test_data['Shifted_values_%d' % i ] = self.test_data.iloc[:,0].shift(i)\n",
    "        \n",
    "        # Create X and Y\n",
    "        X = np.array(self.test_data.iloc[self.p:,1:]) # p+1 to avoid NaN values, first colum so we're using lagged values\n",
    "        y = np.array(self.test_data.iloc[self.p:,0])\n",
    "        \n",
    "        pred_values = self.mu + (X * self.theta1) # Calculate predicted values\n",
    "        self.RMSE = np.sqrt(mean_squared_error(self.test_data.iloc[self.p+1:,0], pred_values))\n",
    "        self.residuals = np.array(self.test_data.iloc[self.p+1:,0]) - pred_values # residuals (used in MA calculation)\n",
    "        print(\"RMSE is: \", f\"{self.RMSE:,.0f}\")\n",
    "        return pred_values"
   ]
  },
  {
   "cell_type": "markdown",
   "metadata": {},
   "source": [
    "## Fit Model Using myARIMA"
   ]
  },
  {
   "cell_type": "code",
   "execution_count": 311,
   "metadata": {},
   "outputs": [
    {
     "name": "stdout",
     "output_type": "stream",
     "text": [
      "68,299,062.935082 ,  0.930310  <<< self.mu, self.theta1\n"
     ]
    }
   ],
   "source": [
    "train = df[:train_index]\n",
    "myARIMA1 = myARIMA().fit(train,1,0,0)\n",
    "#myARIMA1._calcConstant()"
   ]
  },
  {
   "cell_type": "markdown",
   "metadata": {},
   "source": [
    "# Model Validation\n",
    "- In this section we'll validate our manual results against various packages"
   ]
  },
  {
   "cell_type": "markdown",
   "metadata": {},
   "source": [
    "## Model Validation with statsmodels"
   ]
  },
  {
   "cell_type": "code",
   "execution_count": 312,
   "metadata": {},
   "outputs": [],
   "source": [
    "train = df[:train_index]\n",
    "#train.head()"
   ]
  },
  {
   "cell_type": "code",
   "execution_count": 313,
   "metadata": {
    "scrolled": false
   },
   "outputs": [
    {
     "name": "stdout",
     "output_type": "stream",
     "text": [
      "                              ARMA Model Results                              \n",
      "==============================================================================\n",
      "Dep. Variable:                  Value   No. Observations:                   57\n",
      "Model:                     ARMA(1, 0)   Log Likelihood               -1026.930\n",
      "Method:                       css-mle   S.D. of innovations       15825629.401\n",
      "Date:                Sun, 25 Oct 2020   AIC                           2059.860\n",
      "Time:                        20:36:15   BIC                           2065.990\n",
      "Sample:                    01-01-1993   HQIC                          2062.242\n",
      "                         - 09-01-1997                                         \n",
      "===============================================================================\n",
      "                  coef    std err          z      P>|z|      [0.025      0.975]\n",
      "-------------------------------------------------------------------------------\n",
      "const         6.83e+07   3.19e+07      2.138      0.032    5.69e+06    1.31e+08\n",
      "ar.L1.Value     0.9489      0.043     22.269      0.000       0.865       1.032\n",
      "                                    Roots                                    \n",
      "=============================================================================\n",
      "                  Real          Imaginary           Modulus         Frequency\n",
      "-----------------------------------------------------------------------------\n",
      "AR.1            1.0538           +0.0000j            1.0538            0.0000\n",
      "-----------------------------------------------------------------------------\n",
      "68,299,062.94  <<< constant value \n",
      " 0.948928  <<< ar.L1.Value\n"
     ]
    },
    {
     "name": "stderr",
     "output_type": "stream",
     "text": [
      "/Users/brandongoldney/anaconda3/lib/python3.8/site-packages/statsmodels/tsa/base/tsa_model.py:159: ValueWarning: No frequency information was provided, so inferred frequency MS will be used.\n",
      "  warnings.warn('No frequency information was'\n"
     ]
    }
   ],
   "source": [
    "model = ARIMA(train, order=(1,0,0))\n",
    "model_fit = model.fit(disp=0)\n",
    "print(model_fit.summary(), \"\\n\")\n",
    "print(f\"{model_fit.params[0]:,.2f}\", \" <<< constant value\", \"\\n\",\\\n",
    "      f\"{model_fit.params[1]:,.6f}\", \" <<< ar.L1.Value\")"
   ]
  },
  {
   "cell_type": "markdown",
   "metadata": {},
   "source": [
    "## Model Validation: sklearn "
   ]
  },
  {
   "cell_type": "code",
   "execution_count": 314,
   "metadata": {},
   "outputs": [],
   "source": [
    "from sklearn.preprocessing import StandardScaler\n",
    "\n",
    "train = df[:train_index]\n",
    "\n",
    "train = pd.DataFrame((train['Value'] - np.average(train['Value'])) / np.std(train['Value']))\n",
    "p = 1\n",
    "\n",
    "for i in range(1,p+1):\n",
    "    train['Shifted_values_%d' % i ] = train.shift(p)\n",
    "\n",
    "train = train.dropna() \n",
    "train['const'] = 1"
   ]
  },
  {
   "cell_type": "code",
   "execution_count": 316,
   "metadata": {},
   "outputs": [],
   "source": [
    "from sklearn.linear_model import LinearRegression\n",
    "import statsmodels.api as sm\n",
    "\n",
    "# Create X and y\n",
    "X = train.iloc[:,[2,1]]\n",
    "X = sm.add_constant(X)\n",
    "y = train.loc[:,'Value']\n",
    "\n",
    "reg = LinearRegression().fit(X, y)"
   ]
  },
  {
   "cell_type": "code",
   "execution_count": 317,
   "metadata": {},
   "outputs": [
    {
     "data": {
      "text/plain": [
       "0.05728435998107603"
      ]
     },
     "execution_count": 317,
     "metadata": {},
     "output_type": "execute_result"
    }
   ],
   "source": [
    "reg.intercept_"
   ]
  },
  {
   "cell_type": "code",
   "execution_count": 318,
   "metadata": {},
   "outputs": [
    {
     "data": {
      "text/plain": [
       "array([0.        , 0.93030952])"
      ]
     },
     "execution_count": 318,
     "metadata": {},
     "output_type": "execute_result"
    }
   ],
   "source": [
    "reg.coef_"
   ]
  },
  {
   "cell_type": "markdown",
   "metadata": {},
   "source": [
    "## Model Validation: Manual Validations "
   ]
  },
  {
   "cell_type": "code",
   "execution_count": 27,
   "metadata": {},
   "outputs": [],
   "source": [
    "# Insert any manual tests I want to here"
   ]
  },
  {
   "cell_type": "markdown",
   "metadata": {},
   "source": [
    "# Misc Code"
   ]
  },
  {
   "cell_type": "markdown",
   "metadata": {},
   "source": [
    "## Creating Classes"
   ]
  },
  {
   "cell_type": "code",
   "execution_count": null,
   "metadata": {},
   "outputs": [],
   "source": [
    "df_test = pd.DataFrame({'x': [1, 2, 3], 'y': [4,5,6]})"
   ]
  },
  {
   "cell_type": "code",
   "execution_count": null,
   "metadata": {},
   "outputs": [],
   "source": [
    "class Person:\n",
    "    def __init__(self):\n",
    "        pass\n",
    "    def new_var(self, p, d):\n",
    "        self.p = p\n",
    "        self.d = d\n",
    "        \n",
    "    def test_print(self):\n",
    "        new_p = self.p\n",
    "        new_d = self.d\n",
    "        print(new_p)\n",
    "        \n",
    "    def _new_test(self, x):\n",
    "        print(x**2)\n",
    "        return x**2"
   ]
  },
  {
   "cell_type": "code",
   "execution_count": null,
   "metadata": {},
   "outputs": [],
   "source": [
    "testPerson = Person()\n",
    "testPerson.new_var(6,9)\n",
    "testPerson._new_test(3)"
   ]
  },
  {
   "cell_type": "code",
   "execution_count": null,
   "metadata": {},
   "outputs": [],
   "source": [
    "class TestClass(object):\n",
    "\n",
    "    def current(self, test):\n",
    "        \"\"\"Just a method to get a value\"\"\"\n",
    "        self.test = test\n",
    "        print(test)\n",
    "\n",
    "    def next_one(self):\n",
    "        \"\"\"Trying to get a value from the 'current' method\"\"\"\n",
    "        #new_val = self.test\n",
    "        print(self.test)"
   ]
  },
  {
   "cell_type": "code",
   "execution_count": null,
   "metadata": {},
   "outputs": [],
   "source": [
    "testClass2 = TestClass()\n",
    "testClass2.current(4)\n",
    "testClass2.next_one()"
   ]
  },
  {
   "cell_type": "markdown",
   "metadata": {},
   "source": [
    "## Match the Intercept provided in OLS, which is different from intercept in  ARIMA"
   ]
  },
  {
   "cell_type": "markdown",
   "metadata": {},
   "source": [
    "### My data"
   ]
  },
  {
   "cell_type": "code",
   "execution_count": null,
   "metadata": {},
   "outputs": [],
   "source": [
    "train = df[:train_index]\n",
    "p = 1\n",
    "\n",
    "for i in range(1,p+1):\n",
    "    train['Shifted_values_%d' % i ] = train.shift(p)\n",
    "\n",
    "train = train.dropna()   \n",
    "train.iloc[0:5,:]"
   ]
  },
  {
   "cell_type": "markdown",
   "metadata": {},
   "source": [
    "**Calculate the intercept manually.**\n",
    "- The below formulas can be found on the [Simple Linear Regression](https://en.wikipedia.org/wiki/Simple_linear_regression#Numerical_example) page on Wikipedia (\"Numerical Example\" section)."
   ]
  },
  {
   "cell_type": "code",
   "execution_count": null,
   "metadata": {},
   "outputs": [],
   "source": [
    "n = len(train)\n",
    "S_x = train['Shifted_values_1'].sum()\n",
    "S_y = train['Value'].sum()\n",
    "x_squared = (train['Shifted_values_1'] **2).sum()\n",
    "y_squared = (train['Value'] **2).sum()\n",
    "S_xy = (train['Shifted_values_1'] * train['Value']).sum()"
   ]
  },
  {
   "cell_type": "code",
   "execution_count": null,
   "metadata": {},
   "outputs": [],
   "source": [
    "b_hat = ((n*S_xy) - (S_x * S_y)) / ((n*x_squared) - S_x**2)\n",
    "a_hat = ((1/n)*S_y) - (b_hat * (1/n) * S_x)\n"
   ]
  },
  {
   "cell_type": "markdown",
   "metadata": {},
   "source": [
    "**Calculate intercept using sm.OLS**"
   ]
  },
  {
   "cell_type": "code",
   "execution_count": null,
   "metadata": {},
   "outputs": [],
   "source": [
    "X = train['Shifted_values_1']\n",
    "X = sm.add_constant(X)\n",
    "model = sm.OLS(train['Value'], X)\n",
    "\n",
    "results = model.fit()\n"
   ]
  },
  {
   "cell_type": "code",
   "execution_count": null,
   "metadata": {},
   "outputs": [],
   "source": [
    "print(f\"{a_hat:,.0f}\")\n",
    "print(f\"{results.params[0]:,.2f}\")\n",
    "print(\"Notice the two numbers above match. Therefore, we have duplicated how statsmodels.OLS \\\n",
    "calculates the intercept\")"
   ]
  },
  {
   "cell_type": "code",
   "execution_count": null,
   "metadata": {},
   "outputs": [],
   "source": []
  }
 ],
 "metadata": {
  "kernelspec": {
   "display_name": "Python 3",
   "language": "python",
   "name": "python3"
  },
  "language_info": {
   "codemirror_mode": {
    "name": "ipython",
    "version": 3
   },
   "file_extension": ".py",
   "mimetype": "text/x-python",
   "name": "python",
   "nbconvert_exporter": "python",
   "pygments_lexer": "ipython3",
   "version": "3.8.3"
  },
  "toc": {
   "base_numbering": 1,
   "nav_menu": {},
   "number_sections": true,
   "sideBar": true,
   "skip_h1_title": false,
   "title_cell": "Table of Contents",
   "title_sidebar": "Contents",
   "toc_cell": false,
   "toc_position": {
    "height": "calc(100% - 180px)",
    "left": "10px",
    "top": "150px",
    "width": "384px"
   },
   "toc_section_display": true,
   "toc_window_display": true
  },
  "varInspector": {
   "cols": {
    "lenName": 16,
    "lenType": 16,
    "lenVar": 40
   },
   "kernels_config": {
    "python": {
     "delete_cmd_postfix": "",
     "delete_cmd_prefix": "del ",
     "library": "var_list.py",
     "varRefreshCmd": "print(var_dic_list())"
    },
    "r": {
     "delete_cmd_postfix": ") ",
     "delete_cmd_prefix": "rm(",
     "library": "var_list.r",
     "varRefreshCmd": "cat(var_dic_list()) "
    }
   },
   "types_to_exclude": [
    "module",
    "function",
    "builtin_function_or_method",
    "instance",
    "_Feature"
   ],
   "window_display": true
  }
 },
 "nbformat": 4,
 "nbformat_minor": 2
}
