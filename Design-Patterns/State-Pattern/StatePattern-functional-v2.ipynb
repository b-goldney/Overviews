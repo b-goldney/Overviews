{
 "cells": [
  {
   "cell_type": "code",
   "execution_count": 2,
   "metadata": {},
   "outputs": [
    {
     "name": "stdout",
     "output_type": "stream",
     "text": [
      "The JobProcessors internal state is currently: None \n",
      "\n",
      "The job_processors internal state is currently: momentum  \n",
      "\n",
      "The job_processors internal state is currently: volatility  \n",
      "\n"
     ]
    }
   ],
   "source": [
    "# this udpated code usess a dictionary to map the functions to a string. This way,\n",
    "# we can avoid using if else statements to match the function\n",
    "\n",
    "from abc import abstractmethod, ABCMeta\n",
    "from enum import Enum\n",
    "from typing import Optional, Callable\n",
    "\n",
    "# create internal states\n",
    "class JobType(Enum):\n",
    "    momentum = 'momentum'\n",
    "    volatility = 'volatility'\n",
    "    spread = 'spread'\n",
    "    reversion = 'reversion'\n",
    "\n",
    "# create functions for each job type\n",
    "def momentum():\n",
    "    return \"momentum\"\n",
    "\n",
    "def volatility():\n",
    "    return \"volatility\"\n",
    "\n",
    "def spread():\n",
    "    return \"spread\"\n",
    "\n",
    "def reversion():\n",
    "    return \"reversion\"\n",
    "\n",
    "# map each function into the dict to avoid if/else statements \n",
    "job_types = {\n",
    "    JobType.momentum : momentum,\n",
    "    JobType.volatility : volatility,\n",
    "    JobType.spread : spread,\n",
    "    JobType.reversion : reversion \n",
    "}\n",
    "\n",
    "# create worker class\n",
    "class JobProcessor():\n",
    "\tdef __init__(self):\n",
    "\t\tself.state: Optional[Callable[ [], str ]] = None\n",
    "\n",
    "\tdef getState(self):\n",
    "\t\treturn self.state\n",
    "\n",
    "\tdef setState(self, state_fn: Callable[[], str] ):\n",
    "\t\tself.state: Callable[[],str] = state_fn\n",
    "\n",
    "\tdef changeState(self):\n",
    "\t\tself.state = self.state()\n",
    "\n",
    "# run Script\n",
    "job_processor = JobProcessor()\n",
    "print(f'The JobProcessors internal state is currently: {job_processor.getState()} \\n')\n",
    "\n",
    "# update state to momentum\n",
    "target_state = JobType.momentum \n",
    "state_fn = job_types[target_state]\n",
    "job_processor.setState(state_fn)\n",
    "job_processor.changeState()\n",
    "print(f'The job_processors internal state is currently: {job_processor.getState()}  \\n')\n",
    "\n",
    "# update state to volatility\n",
    "target_state = JobType.volatility \n",
    "state_fn = job_types[target_state]\n",
    "job_processor.setState(state_fn)\n",
    "job_processor.changeState()\n",
    "print(f'The job_processors internal state is currently: {job_processor.getState()}  \\n')\n"
   ]
  },
  {
   "cell_type": "code",
   "execution_count": null,
   "metadata": {},
   "outputs": [],
   "source": []
  }
 ],
 "metadata": {
  "kernelspec": {
   "display_name": "Python 3",
   "language": "python",
   "name": "python3"
  },
  "language_info": {
   "codemirror_mode": {
    "name": "ipython",
    "version": 3
   },
   "file_extension": ".py",
   "mimetype": "text/x-python",
   "name": "python",
   "nbconvert_exporter": "python",
   "pygments_lexer": "ipython3",
   "version": "3.10.0"
  },
  "orig_nbformat": 4,
  "vscode": {
   "interpreter": {
    "hash": "4c86c9ec3351f7355aaef1512d14a694c5ba1d396f59dc8af013104fd773c28e"
   }
  }
 },
 "nbformat": 4,
 "nbformat_minor": 2
}
