{
 "cells": [
  {
   "cell_type": "code",
   "execution_count": 1,
   "metadata": {},
   "outputs": [
    {
     "name": "stdout",
     "output_type": "stream",
     "text": [
      "The JobProcessors internal state is currently: None \n",
      "\n",
      "changing state to data_exploration\n",
      "The job_processors internal state is currently: DE  \n",
      "\n",
      "changing state to data_processing\n",
      "The job_processors internal state is currently: DP \n",
      "\n",
      "changing state to build_model\n",
      "The job_processors internal state is currently: build model \n",
      "\n",
      "changing state to auto_ml\n",
      "The job_processors internal state is currently: auto_ml \n",
      "\n"
     ]
    }
   ],
   "source": [
    "from abc import abstractmethod, ABCMeta\n",
    "from enum import Enum\n",
    "from typing import Optional, Callable\n",
    "\n",
    "# create functions for each state \n",
    "def momentum():\n",
    "    return \"momentum\"\n",
    "\n",
    "def volatility():\n",
    "    return \"volatility\"\n",
    "\n",
    "def spread():\n",
    "    return \"spread\"\n",
    "\n",
    "def reversion():\n",
    "    return \"reversion\"\n",
    "\n",
    "\n",
    "# create worker class\n",
    "class JobProcessor():\n",
    "\tdef __init__(self):\n",
    "\t\tself.state: Optional[Callable[ [], str ]] = None\n",
    "\n",
    "\tdef getState(self):\n",
    "\t\treturn self.state\n",
    "\n",
    "\tdef setState(self, state_fn: Callable[[], str] ):\n",
    "\t\tself.state: Callable[[],str] = state_fn\n",
    "\n",
    "\tdef changeState(self):\n",
    "\t\tself.state = self.state()\n",
    "\n",
    "# Run Script\n",
    "job_processor = JobProcessor()\n",
    "print(f'The JobProcessors internal state is currently: {job_processor.getState()} \\n')\n",
    "\n",
    "print(\"changing state to momentum\")\n",
    "job_processor.setState(momentum)\n",
    "job_processor.changeState()\n",
    "print(f'The job_processors internal state is currently: {job_processor.getState()}  \\n')\n",
    "\n",
    "print(\"changing state to volatility\")\n",
    "job_processor.setState(volatility)\n",
    "job_processor.changeState()\n",
    "print(f'The job_processors internal state is currently: {job_processor.getState()} \\n')\n",
    "\n",
    "print(\"changing state to spread\")\n",
    "job_processor.setState(spread)\n",
    "job_processor.changeState()\n",
    "print(f'The job_processors internal state is currently: {job_processor.getState()} \\n')\n",
    "\n",
    "print(\"changing state to reversion\")\n",
    "job_processor.setState(reversion)\n",
    "job_processor.changeState()\n",
    "print(f'The job_processors internal state is currently: {job_processor.getState()} \\n')"
   ]
  },
  {
   "cell_type": "code",
   "execution_count": null,
   "metadata": {},
   "outputs": [],
   "source": []
  }
 ],
 "metadata": {
  "kernelspec": {
   "display_name": "Python 3",
   "language": "python",
   "name": "python3"
  },
  "language_info": {
   "codemirror_mode": {
    "name": "ipython",
    "version": 3
   },
   "file_extension": ".py",
   "mimetype": "text/x-python",
   "name": "python",
   "nbconvert_exporter": "python",
   "pygments_lexer": "ipython3",
   "version": "3.10.0 (default, Jan  4 2022, 19:51:42) [Clang 13.0.0 (clang-1300.0.29.30)]"
  },
  "orig_nbformat": 4,
  "vscode": {
   "interpreter": {
    "hash": "4c86c9ec3351f7355aaef1512d14a694c5ba1d396f59dc8af013104fd773c28e"
   }
  }
 },
 "nbformat": 4,
 "nbformat_minor": 2
}
