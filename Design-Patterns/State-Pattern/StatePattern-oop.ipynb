{
 "cells": [
  {
   "cell_type": "code",
   "execution_count": 1,
   "metadata": {},
   "outputs": [
    {
     "name": "stdout",
     "output_type": "stream",
     "text": [
      "The JobProcessors internal state is currently: None \n",
      "\n",
      "changing state to data_exploration\n",
      "Executing momentum trade\n",
      "The job_processors internal state is currently: momentum trade \n",
      " \n",
      "\n",
      "changing state to data_processing\n",
      "Executing volatility trade\n",
      "The job_processors internal state is currently: volatility trade\n"
     ]
    }
   ],
   "source": [
    "from abc import abstractmethod, ABCMeta\n",
    "from typing import Optional, Callable\n",
    "\n",
    "class InternalState(metaclass = ABCMeta):\n",
    "\t@abstractmethod\n",
    "\tdef changeState(self):\n",
    "\t\tpass\n",
    "\n",
    "class Momentum(InternalState):\n",
    "\tdef changeState(self):\n",
    "\t\tprint(\"Executing momentum trade\")\n",
    "\t\treturn \"momentum trade\"\n",
    "\n",
    "class Volatility(InternalState):\n",
    "\tdef changeState(self):\n",
    "\t\tprint(\"Executing volatility trade\")\n",
    "\t\treturn \"volatility trade\"\n",
    "\n",
    "\n",
    "class Spread(InternalState):\n",
    "\tdef changeState(self):\n",
    "\t\tprint(\"Executing spread trade\")\n",
    "\t\treturn \"spread trade\"\n",
    "\n",
    "class Reversion(InternalState):\n",
    "\tdef changeState(self):\n",
    "\t\tprint(\"Executing reversion trade\")\n",
    "\t\treturn \"reversion trade\"\n",
    "\n",
    "class JobProcessor(InternalState):\n",
    "\tdef __init__(self):\n",
    "\t\tself.state: Optional[InternalState] = None\n",
    "\n",
    "\tdef getState(self):\n",
    "\t\treturn self.state\n",
    "\n",
    "\tdef setState(self, state: InternalState):\n",
    "\t\tself.state = state \n",
    "\n",
    "\tdef changeState(self):\n",
    "\t\tself.state = self.state.changeState()\n",
    "\n",
    "job_processor = JobProcessor()\n",
    "print(f'The JobProcessors internal state is currently: {job_processor.getState()} \\n')\n",
    "\n",
    "momentum = Momentum()\n",
    "volatility = Volatility()\n",
    "\n",
    "#Louder = IncreaseVolume()\n",
    "#Lower = DecreaseVolume()\n",
    "\n",
    "print(\"changing state to momentum\")\n",
    "job_processor.setState(momentum)\n",
    "job_processor.changeState()\n",
    "print(f'The job_processors internal state is currently: {job_processor.getState()} \\n \\n')\n",
    "\n",
    "print(\"changing state to volatility\")\n",
    "job_processor.setState(volatility)\n",
    "job_processor.changeState()\n",
    "print(f'The job_processors internal state is currently: {job_processor.getState()}')\n"
   ]
  },
  {
   "cell_type": "code",
   "execution_count": null,
   "metadata": {},
   "outputs": [],
   "source": []
  }
 ],
 "metadata": {
  "kernelspec": {
   "display_name": "Python 3",
   "language": "python",
   "name": "python3"
  },
  "language_info": {
   "codemirror_mode": {
    "name": "ipython",
    "version": 3
   },
   "file_extension": ".py",
   "mimetype": "text/x-python",
   "name": "python",
   "nbconvert_exporter": "python",
   "pygments_lexer": "ipython3",
   "version": "3.10.0"
  },
  "orig_nbformat": 4,
  "vscode": {
   "interpreter": {
    "hash": "4c86c9ec3351f7355aaef1512d14a694c5ba1d396f59dc8af013104fd773c28e"
   }
  }
 },
 "nbformat": 4,
 "nbformat_minor": 2
}
