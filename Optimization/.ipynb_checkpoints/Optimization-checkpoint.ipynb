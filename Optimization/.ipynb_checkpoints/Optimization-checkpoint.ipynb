{
 "cells": [
  {
   "cell_type": "markdown",
   "metadata": {},
   "source": [
    "# Optimization\n",
    "\n",
    "To Do:\n",
    "- How to break this out? derivative-free vs derivative-based methods, constrained vs unconstrained problems\n",
    "- Fmin search (from J. Nathan Kutz, see YouTube video \"Lecture: Unconstrained Optimization (Derivative Methods)\")\n",
    "- How do Lagrange multipliers play into this?\n",
    "- How does HJB play into this?"
   ]
  },
  {
   "cell_type": "markdown",
   "metadata": {},
   "source": [
    "## Example - Unconstrained Optimization:  $-2 cos(x) + \\dfrac{x^2}{10}$"
   ]
  },
  {
   "cell_type": "code",
   "execution_count": 3,
   "metadata": {},
   "outputs": [],
   "source": [
    "# define the function\n",
    "def f(x):\n",
    "    return -2* math.cos(x) + (x**2)/10"
   ]
  },
  {
   "cell_type": "code",
   "execution_count": 29,
   "metadata": {},
   "outputs": [
    {
     "data": {
      "image/png": "[encoded data removed]",
      "text/plain": [
       "<Figure size 432x288 with 1 Axes>"
      ]
     },
     "metadata": {
      "needs_background": "light"
     },
     "output_type": "display_data"
    }
   ],
   "source": [
    "# plot the function\n",
    "results = []\n",
    "for i in np.arange(-10,10,0.1):\n",
    "    results.append(f(i))\n",
    "    \n",
    "import matplotlib.pyplot as plt\n",
    "plt.plot(np.arange(-10,10,0.1),results)\n",
    "plt.title(\"$-2cos(x) - \\dfrac{x^2}{10}$\")\n",
    "plt.xlabel('x-axis'), plt.ylabel('y-axis')\n",
    "plt.xticks(np.arange(-10, 11, 2)) # change x-axis tick frequency\n",
    "plt.show()"
   ]
  },
  {
   "cell_type": "markdown",
   "metadata": {},
   "source": [
    "### Solved by hand"
   ]
  },
  {
   "cell_type": "code",
   "execution_count": null,
   "metadata": {},
   "outputs": [],
   "source": []
  },
  {
   "cell_type": "markdown",
   "metadata": {},
   "source": [
    "### Solved via the Nelder-Mead Method"
   ]
  },
  {
   "cell_type": "code",
   "execution_count": 30,
   "metadata": {},
   "outputs": [
    {
     "data": {
      "text/plain": [
       " final_simplex: (array([[ 7.10542736e-15],\n",
       "       [-7.32421875e-05]]), array([-2.        , -1.99999999]))\n",
       "           fun: -2.0\n",
       "       message: 'Optimization terminated successfully.'\n",
       "          nfev: 38\n",
       "           nit: 19\n",
       "        status: 0\n",
       "       success: True\n",
       "             x: array([7.10542736e-15])"
      ]
     },
     "execution_count": 30,
     "metadata": {},
     "output_type": "execute_result"
    }
   ],
   "source": [
    "# initial guess - not guessing zero since that's the solution\n",
    "x0 = -3\n",
    "\n",
    "# minimize\n",
    "minimize(f, x0, method='Nelder-Mead') # function, f, defined above"
   ]
  },
  {
   "cell_type": "markdown",
   "metadata": {},
   "source": [
    "## Example Constrained Optimization: Solved via the Simplex Method \n",
    "- Source: [YouTube: Scott Elliott](https://www.youtube.com/watch?v=iwDiG2mR6FM)\n",
    "- We'll solve the problem below by hand, as outlined in the YouTube video and then verify the results using the minimize function from scipy.optimize"
   ]
  },
  {
   "cell_type": "markdown",
   "metadata": {},
   "source": [
    "### Example solved by hand"
   ]
  },
  {
   "cell_type": "code",
   "execution_count": null,
   "metadata": {},
   "outputs": [],
   "source": []
  },
  {
   "cell_type": "markdown",
   "metadata": {},
   "source": [
    "### Example solved via scipy.minize\n",
    "- The x array of (8,0,0) matches our solution found by hand"
   ]
  },
  {
   "cell_type": "code",
   "execution_count": 1,
   "metadata": {},
   "outputs": [
    {
     "data": {
      "text/plain": [
       "     fun: -63.99999999959101\n",
       "     jac: array([ -7.99999952, -10.        ,  -7.        ])\n",
       " message: 'Optimization terminated successfully'\n",
       "    nfev: 16\n",
       "     nit: 4\n",
       "    njev: 4\n",
       "  status: 0\n",
       " success: True\n",
       "       x: array([ 8.00000000e+00, -4.41662012e-12, -8.69437855e-12])"
      ]
     },
     "execution_count": 1,
     "metadata": {},
     "output_type": "execute_result"
    }
   ],
   "source": [
    "from scipy.optimize import minimize, rosen\n",
    "import math\n",
    "\n",
    "# define function\n",
    "def f(x):\n",
    "    x1 = x[0]# pack the variables into a single array for scipy.minimize\n",
    "    x2 = x[1]\n",
    "    x3 = x[2]\n",
    "    return -8*x1 - 10*x2 - 7*x3\n",
    "\n",
    "# initial guess\n",
    "x0 = np.array([0,0,0])\n",
    "\n",
    "# constraints (can't use lambdas here or the x2 and x3 variables won't be unpacked)\n",
    "def constraint1(x):\n",
    "    return -x[0] - 3*x[1] - 2*x[2] + 10\n",
    "\n",
    "def constraint2(x):\n",
    "    return -x[0] - 5*x[1] - x[2] +8\n",
    "\n",
    "def constraint3(x):\n",
    "    return x[0]\n",
    "\n",
    "def constraint4(x):\n",
    "    return x[1]\n",
    "\n",
    "def constraint5(x):\n",
    "    return x[2]\n",
    "\n",
    "con1 = {'type':'ineq', 'fun':constraint1}\n",
    "con2 = {'type':'ineq', 'fun':constraint2}\n",
    "con3 = {'type':'ineq', 'fun':constraint3}\n",
    "con4 = {'type':'ineq', 'fun':constraint4}\n",
    "con5 = {'type':'ineq', 'fun':constraint5}\n",
    "\n",
    "cons = [con1, con2, con3, con4, con5]\n",
    "\n",
    "\n",
    "minimize(f, x0, method='SLSQP', constraints = cons, options={'maxiter':600})                "
   ]
  },
  {
   "cell_type": "code",
   "execution_count": null,
   "metadata": {},
   "outputs": [],
   "source": []
  }
 ],
 "metadata": {
  "kernelspec": {
   "display_name": "Python 3",
   "language": "python",
   "name": "python3"
  },
  "language_info": {
   "codemirror_mode": {
    "name": "ipython",
    "version": 3
   },
   "file_extension": ".py",
   "mimetype": "text/x-python",
   "name": "python",
   "nbconvert_exporter": "python",
   "pygments_lexer": "ipython3",
   "version": "3.9.0"
  },
  "toc": {
   "base_numbering": "1",
   "nav_menu": {},
   "number_sections": true,
   "sideBar": true,
   "skip_h1_title": true,
   "title_cell": "Table of Contents",
   "title_sidebar": "Contents",
   "toc_cell": false,
   "toc_position": {},
   "toc_section_display": true,
   "toc_window_display": true
  },
  "varInspector": {
   "cols": {
    "lenName": 16,
    "lenType": 16,
    "lenVar": 40
   },
   "kernels_config": {
    "python": {
     "delete_cmd_postfix": "",
     "delete_cmd_prefix": "del ",
     "library": "var_list.py",
     "varRefreshCmd": "print(var_dic_list())"
    },
    "r": {
     "delete_cmd_postfix": ") ",
     "delete_cmd_prefix": "rm(",
     "library": "var_list.r",
     "varRefreshCmd": "cat(var_dic_list()) "
    }
   },
   "types_to_exclude": [
    "module",
    "function",
    "builtin_function_or_method",
    "instance",
    "_Feature"
   ],
   "window_display": false
  }
 },
 "nbformat": 4,
 "nbformat_minor": 4
}
