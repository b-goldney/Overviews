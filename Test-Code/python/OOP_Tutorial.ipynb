{
 "cells": [
  {
   "cell_type": "markdown",
   "metadata": {},
   "source": [
    "**The below notes are all taken from Corey Schafer's \"OOP Tutorial\" which is posted on YouTube (link [here](https://www.youtube.com/channel/UCCezIgC97PvUuR4_gbFUs5g))**"
   ]
  },
  {
   "cell_type": "markdown",
   "metadata": {},
   "source": [
    "## Notes: Python OOP Tutorial 1: Classes and Instances\n",
    "Link [here](https://www.youtube.com/watch?v=ZDa-Z5JzLYM)"
   ]
  },
  {
   "cell_type": "markdown",
   "metadata": {},
   "source": [
    "Let's create a class called \"employee\" and assign attributes to it\n",
    "- Attributes: Attributes are data stored inside a class or instance and represent the state or quality of the class or instance. In short, attributes store information about the instance\n",
    "- Methods: Also, attributes should not be confused with class functions also known as methods. Methods do things (think of methods like verbs); whereas, attributes store information (think like a noun)"
   ]
  },
  {
   "cell_type": "code",
   "execution_count": 1,
   "metadata": {},
   "outputs": [
    {
     "name": "stdout",
     "output_type": "stream",
     "text": [
      "George Washington 100\n",
      "Test User 555\n",
      "<__main__.employee object at 0x110d0e2d0> <<<<<<< Notice this only prints where the class is stored in memory\n",
      "George.Washington@company.com\n",
      "George Washington\n"
     ]
    },
    {
     "data": {
      "text/plain": [
       "'George Washington'"
      ]
     },
     "execution_count": 1,
     "metadata": {},
     "output_type": "execute_result"
    }
   ],
   "source": [
    "class employee:\n",
    "    \n",
    "    def __init__(self, first, last, pay):\n",
    "        self.first = first\n",
    "        self.last = last\n",
    "        self.pay = pay\n",
    "        self.email = first + '.' + last + '@company.com'\n",
    "        print(first, last, pay) #Note, if we put email in here, \n",
    "\n",
    "# This is a method, each method within a class automatically takes \n",
    "# the instance as the first argument which will always call 'self'\n",
    "    def fullname(self,):\n",
    "        return '{} {}'.format(self.first, self.last)\n",
    "\n",
    "emp_1 = employee('George', 'Washington',100)\n",
    "emp_2 = employee('Test','User',555)\n",
    "\n",
    "print(emp_1, '<<<<<<< Notice this only prints where the class is stored in memory')\n",
    "\n",
    "print(emp_1.email) # This does not take parentheses after email becaue it's an attribute\n",
    "print(emp_1.fullname()) # This takes paraentheses after fullname because it's a method\n",
    "\n",
    "employee.fullname(emp_1) #Because we're using the class we need to pass an instance"
   ]
  },
  {
   "cell_type": "markdown",
   "metadata": {},
   "source": [
    "Note:\n",
    "- If we put \"email\" into the print function (line 9) we'd receive the following error: NameError: name 'email' is not defined\n",
    "    - This is because self.email is a method"
   ]
  },
  {
   "cell_type": "markdown",
   "metadata": {},
   "source": [
    "## Notes: Python OOP Tutorial 2: Class Variables\n",
    "Link [here](https://www.youtube.com/watch?v=BJ-VvGyQxho)"
   ]
  },
  {
   "cell_type": "markdown",
   "metadata": {},
   "source": [
    "- Class variables are variables that are shared amongst all instances of a class. For example, it's something that should be shared amongst all employees.  So, if every employee receives a 4% raiase at the end of the year then that's a good candidate for a class variable\n",
    "- Instance variables are unique for each instance"
   ]
  },
  {
   "cell_type": "markdown",
   "metadata": {},
   "source": [
    "Let's look at creating a class variable by continuing from the example above.  \n",
    "There are two ways to setup a class variable:\n",
    "    1. Apply at the class level  \n",
    "    2. Apply at the instance level"
   ]
  },
  {
   "cell_type": "code",
   "execution_count": 1,
   "metadata": {},
   "outputs": [
    {
     "name": "stdout",
     "output_type": "stream",
     "text": [
      "1.04\n",
      "{'first': 'George', 'last': 'Washington', 'pay': 100, 'email': 'George.Washington@company.com'}\n",
      "{'__module__': '__main__', 'raise_amt': 1.04, '__init__': <function Employee.__init__ at 0x102d51290>, 'fullname': <function Employee.fullname at 0x102d51320>, 'apply_raise': <function Employee.apply_raise at 0x102d513b0>, '__dict__': <attribute '__dict__' of 'Employee' objects>, '__weakref__': <attribute '__weakref__' of 'Employee' objects>, '__doc__': None}\n"
     ]
    }
   ],
   "source": [
    "class Employee:\n",
    "    \n",
    "    raise_amt = 1.04\n",
    "    \n",
    "    def __init__(self, first, last, pay):\n",
    "        self.first = first\n",
    "        self.last = last\n",
    "        self.pay = pay\n",
    "        self.email = first + '.' + last + '@company.com'\n",
    "\n",
    "    def fullname(self,):\n",
    "        return '{} {}'.format(self.first, self.last)\n",
    "\n",
    "    def apply_raise(self):\n",
    "        self.pay = int(self.pay * self.raise_amt) # Employee.raise_amount also works\n",
    "\n",
    "\n",
    "emp_1 = Employee('George', 'Washington',100)\n",
    "emp_2 = Employee('Test','User',555)\n",
    "\n",
    "# This returns 1.04 because even though raise_amount belongs to the class and not the instance.\n",
    "# This is because Python first searches the instance for the attribute and then searches the class\n",
    "print(emp_1.raise_amt) \n",
    "\n",
    "# We can prove the above by printing the dictionary for emp_1. Notice, there is no raise_amount\n",
    "print(emp_1.__dict__)\n",
    "\n",
    "# However, printing the employee.dict will show raise_amount\n",
    "print(Employee.__dict__)"
   ]
  },
  {
   "cell_type": "code",
   "execution_count": 5,
   "metadata": {},
   "outputs": [
    {
     "data": {
      "text/plain": [
       "'George Washington'"
      ]
     },
     "execution_count": 5,
     "metadata": {},
     "output_type": "execute_result"
    }
   ],
   "source": [
    "Employee('George', 'Washington', 500).fullname()"
   ]
  },
  {
   "cell_type": "markdown",
   "metadata": {},
   "source": [
    "**Now, let's play with the new class variable to figure out what's going on**"
   ]
  },
  {
   "cell_type": "code",
   "execution_count": 3,
   "metadata": {},
   "outputs": [
    {
     "name": "stdout",
     "output_type": "stream",
     "text": [
      "1.05\n",
      "1.05\n",
      "1.05\n"
     ]
    }
   ],
   "source": [
    "# Let's say we want to increase all employees raise amount to 5%\n",
    "Employee.raise_amt = 1.05\n",
    "\n",
    "print(Employee.raise_amt)\n",
    "print(emp_1.raise_amt)\n",
    "print(emp_2.raise_amt)\n",
    "\n",
    "# We can see that the class and all instances have been changed to 1.05"
   ]
  },
  {
   "cell_type": "code",
   "execution_count": 4,
   "metadata": {},
   "outputs": [
    {
     "name": "stdout",
     "output_type": "stream",
     "text": [
      "1.05\n",
      "1.04\n",
      "1.05\n",
      "{'first': 'George', 'last': 'Washington', 'pay': 100, 'email': 'George.Washington@company.com', 'raise_amt': 1.04}\n"
     ]
    }
   ],
   "source": [
    "# Now, let's change only 1 instance\n",
    "\n",
    "emp_1.raise_amt = 1.04\n",
    "\n",
    "print(Employee.raise_amt)\n",
    "print(emp_1.raise_amt)\n",
    "print(emp_2.raise_amt)\n",
    "\n",
    "# Notice that only emp_1 has a raise amount of 4%. Why did this happen?\n",
    "\n",
    "# Recall, earlier the raise_amount only existed at the class level. However, now it exists at the \n",
    "# instance level because we created it\n",
    "print(emp_1.__dict__)"
   ]
  },
  {
   "cell_type": "markdown",
   "metadata": {},
   "source": [
    "**In the above example we where we created raise_amount, it made sense to create raise_amount using self (i.e. self.raise_amount.  It made sense there becasue it's possible that at some point we'd want to change the raise amount in the future for only certain employees.**  \n",
    "\n",
    "**Now, lets look at an example where we want to set the variable using the class (i.e. Employee.raise_amount)**"
   ]
  },
  {
   "cell_type": "code",
   "execution_count": 5,
   "metadata": {},
   "outputs": [
    {
     "name": "stdout",
     "output_type": "stream",
     "text": [
      "0\n",
      "2\n"
     ]
    }
   ],
   "source": [
    "class Employee:\n",
    "    \n",
    "    raise_amt = 1.04\n",
    "    num_of_emps = 0\n",
    "    \n",
    "    def __init__(self, first, last, pay):\n",
    "        self.first = first\n",
    "        self.last = last\n",
    "        self.pay = pay\n",
    "        self.email = first + '.' + last + '@company.com'\n",
    "        \n",
    "        # we put Employee.num_of_emps here because everytime a new employee is created the init method runs\n",
    "        Employee.num_of_emps += 1 \n",
    "        \n",
    "    def fullname(self,):\n",
    "        return '{} {}'.format(self.first, self.last)\n",
    "\n",
    "    def apply_raise(self):\n",
    "        self.pay = int(self.pay * self.raise_amt) # Employee.raise_amount also works\n",
    "\n",
    "# This prints 0 because we have zero employees at this point\n",
    "print(Employee.num_of_emps)\n",
    "        \n",
    "emp_1 = Employee('George', 'Washington',100)\n",
    "emp_2 = Employee('Test','User',555)\n",
    "\n",
    "# This prints 2 which is what we want because we created 2 employees\n",
    "print(Employee.num_of_emps)"
   ]
  },
  {
   "cell_type": "markdown",
   "metadata": {},
   "source": [
    "## Python OOP Tutorial 3: classmethods and staticmethods\n",
    "Link [here](https://www.youtube.com/watch?v=rq8cL2XMM5M)"
   ]
  },
  {
   "cell_type": "markdown",
   "metadata": {},
   "source": [
    "- Regular methods in a class automatically take the instance as the first argument. By convention we call this self\n",
    "- How can we change this so it takes the class as the first argument? So, we want to a regular method to a class method\n",
    "- To change a regular method to a class method it's as easy as adding a decorator to the top"
   ]
  },
  {
   "cell_type": "code",
   "execution_count": 6,
   "metadata": {},
   "outputs": [],
   "source": [
    "class Employee:\n",
    "    \n",
    "    raise_amt = 1.04\n",
    "    num_of_emps = 0\n",
    "    \n",
    "    def __init__(self, first, last, pay):\n",
    "        self.first = first\n",
    "        self.last = last\n",
    "        self.pay = pay\n",
    "        self.email = first + '.' + last + '@company.com'\n",
    "        \n",
    "        Employee.num_of_emps += 1 \n",
    "        \n",
    "    def fullname(self,):\n",
    "        return '{} {}'.format(self.first, self.last)\n",
    "\n",
    "    def apply_raise(self):\n",
    "        self.pay = int(self.pay * self.raise_amt) \n",
    "    \n",
    "    @classmethod # This decorator alters the functionality of the method so we receive class as the first argument\n",
    "    def set_raise_amt(clas, amount): # cls is the common convention for \"class\"\n",
    "        clas.raise_amt = amount\n",
    "\n",
    "emp_1 = Employee('George', 'Washington',100)\n",
    "emp_2 = Employee('Test','User',555)"
   ]
  },
  {
   "cell_type": "code",
   "execution_count": 7,
   "metadata": {},
   "outputs": [
    {
     "name": "stdout",
     "output_type": "stream",
     "text": [
      "1.04\n",
      "1.04\n",
      "1.04\n",
      "1.05\n",
      "1.05\n",
      "1.05\n"
     ]
    }
   ],
   "source": [
    "# Notice these all print 1.04\n",
    "print(Employee.raise_amt)\n",
    "print(emp_1.raise_amt)\n",
    "print(emp_2.raise_amt)\n",
    "\n",
    "# However, let's change it to 1.05 and see what happens\n",
    "Employee.set_raise_amt(1.05)\n",
    "\n",
    "# Now every instance has 1.05\n",
    "print(Employee.raise_amt)\n",
    "print(emp_1.raise_amt)\n",
    "print(emp_2.raise_amt)"
   ]
  },
  {
   "cell_type": "markdown",
   "metadata": {},
   "source": [
    "**Class Methods as Alternative Constructors**\n",
    "- All this means is that we're using class methods to provide multiple ways of creating objects.\n",
    "- Let's look at an example:\n",
    "    - Suppose someone is frequently using our Employee class but they keep receiving the information they need to input as a string with hyphens.  How can they use our function despite the fact they receive the information in the wrong format?"
   ]
  },
  {
   "cell_type": "code",
   "execution_count": 8,
   "metadata": {},
   "outputs": [
    {
     "name": "stdout",
     "output_type": "stream",
     "text": [
      "John\n",
      "70000\n"
     ]
    }
   ],
   "source": [
    "emp_1_str = 'John-Doe-70000'\n",
    "emp_2_str = 'Steve-Smith-30000'\n",
    "emp_3_str = 'Jane-Doe-90000'\n",
    "\n",
    "# One easy way to resolve this is to use split\n",
    "\n",
    "first, last, pay = emp_1_str.split('-')\n",
    "\n",
    "new_emp_1 = Employee(first, last, pay)\n",
    "\n",
    "print(new_emp_1.first)\n",
    "print(new_emp_1.pay)"
   ]
  },
  {
   "cell_type": "markdown",
   "metadata": {},
   "source": [
    "**While the above works, it's not effective for creating a lot of employees whose information is stored in a string format. Let's look at a different approach using a class method (using it as an alternative constructor)**"
   ]
  },
  {
   "cell_type": "code",
   "execution_count": 9,
   "metadata": {},
   "outputs": [
    {
     "name": "stdout",
     "output_type": "stream",
     "text": [
      "John\n",
      "John.Doe@company.com\n"
     ]
    }
   ],
   "source": [
    "class Employee:\n",
    "    \n",
    "    raise_amt = 1.04\n",
    "    num_of_emps = 0\n",
    "    \n",
    "    def __init__(self, first, last, pay):\n",
    "        self.first = first\n",
    "        self.last = last\n",
    "        self.pay = pay\n",
    "        self.email = first + '.' + last + '@company.com'\n",
    "        \n",
    "        Employee.num_of_emps += 1 \n",
    "        \n",
    "    def fullname(self,):\n",
    "        return '{} {}'.format(self.first, self.last)\n",
    "\n",
    "    def apply_raise(self):\n",
    "        self.pay = int(self.pay * self.raise_amt) \n",
    "    \n",
    "    @classmethod \n",
    "    def set_raise_amt(clas, amount): \n",
    "        clas.raise_amt = amount\n",
    "    \n",
    "    @classmethod\n",
    "    def from_string(cls, emp_str): # This function is used to convert the string to the correct format\n",
    "        first, last, pay = emp_str.split('-')\n",
    "        return cls(first, last, pay) # this line creates the new employee. Employee could be used instead of cls\n",
    "\n",
    "\n",
    "new_emp_1 = Employee.from_string(emp_1_str)\n",
    "# We can see the below successfully prints the desired output. So, we don't need to manually parse each string\n",
    "print(new_emp_1.first)\n",
    "print(new_emp_1.email)"
   ]
  },
  {
   "cell_type": "markdown",
   "metadata": {},
   "source": [
    "**Let's look at static methods**\n",
    "- Suppose we wanted a function that could take in a date and return whether that day is a work day\n",
    "- This has a logical connection to our Employee class, but doesn't have a connection to any specific instance or method\n",
    "- This is where static methods come in\n",
    "    - A heuristic on when to use static methods: when the method is created the instance or the class are never accessed then it should be the static method\n",
    "- In the below example, recall that Python has built in weekdays so that a Monday is 0 and Sunday is 6"
   ]
  },
  {
   "cell_type": "code",
   "execution_count": 10,
   "metadata": {},
   "outputs": [],
   "source": [
    "class Employee:\n",
    "    \n",
    "    raise_amt = 1.04\n",
    "    num_of_emps = 0\n",
    "    \n",
    "    def __init__(self, first, last, pay):\n",
    "        self.first = first\n",
    "        self.last = last\n",
    "        self.pay = pay\n",
    "        self.email = first + '.' + last + '@company.com'\n",
    "        \n",
    "        Employee.num_of_emps += 1 \n",
    "        \n",
    "    def fullname(self,):\n",
    "        return '{} {}'.format(self.first, self.last)\n",
    "\n",
    "    def apply_raise(self):\n",
    "        self.pay = int(self.pay * self.raise_amt) \n",
    "    \n",
    "    @classmethod \n",
    "    def set_raise_amt(clas, amount): \n",
    "        clas.raise_amt = amount\n",
    "    \n",
    "    @classmethod\n",
    "    def from_string(cls, emp_str): \n",
    "        first, last, pay = emp_str.split('-')\n",
    "        return cls(first, last, pay) \n",
    "    \n",
    "    @staticmethod # Notice here wer're using @staticmethod instead of @classmethod\n",
    "    def is_workday(day):\n",
    "        if day.weekday() == 5 or day.weekday() == 6: # Recall Python built-in so that Monday is 0 and Sunday is 6\n",
    "            return False\n",
    "        return True\n",
    "        "
   ]
  },
  {
   "cell_type": "code",
   "execution_count": 11,
   "metadata": {},
   "outputs": [
    {
     "name": "stdout",
     "output_type": "stream",
     "text": [
      "False\n"
     ]
    }
   ],
   "source": [
    "# Let's test the above example\n",
    "import datetime\n",
    "\n",
    "my_date = datetime.date(2016,7,9) \n",
    "print(Employee.is_workday(my_date))"
   ]
  },
  {
   "cell_type": "markdown",
   "metadata": {},
   "source": [
    "## Python OOP Tutorial 4: Inheritance - Creating Subclasses\n",
    "Link [here](https://www.youtube.com/watch?v=RSl87lqOXDE)"
   ]
  },
  {
   "cell_type": "markdown",
   "metadata": {},
   "source": [
    "- Subclasses: receive all the functionality of the parent class, but then we can overwrite methods or create new ones without affecting the parent class  \n",
    "- Let's start by looking at an example where we create two types of employees: 1) Developers and 2) Managers.  This is a good candidate for subclasses because both types of employees will have names and email addresses; however, there are certain attributes we will want to create that will be specific to the type of job"
   ]
  },
  {
   "cell_type": "code",
   "execution_count": 12,
   "metadata": {},
   "outputs": [
    {
     "name": "stdout",
     "output_type": "stream",
     "text": [
      "George\n",
      "George.Washington@company.com\n"
     ]
    }
   ],
   "source": [
    "# First, let's create the Developer Class, but use \"pass\" to demonstrate it inherits \n",
    "# everything from the parent class\n",
    "\n",
    "class Developer(Employee):\n",
    "    pass\n",
    "\n",
    "dev_1 = Developer('George', 'Washington', 50000)\n",
    "emp_2 = Employee('Test','User',60000) \n",
    "\n",
    "# As expected, this instance of Developer has all the attributes of the parent class (i.e. Employee)\n",
    "print(dev_1.first)\n",
    "print(dev_1.email)"
   ]
  },
  {
   "cell_type": "markdown",
   "metadata": {},
   "source": [
    "- **Let's recap what happened in the above code block: when we printed dev_1.email Python looked for an \\_\\_init\\_\\_ method in the Developer class, but obviously didn't find it.  So, it went up the hierarchy chain to the Employee class where it did find an \\_\\_init\\_\\_ method and executed that.**  \n",
    "    - **This chain is called the method resolution order**\n",
    "- **Before moving on, let's look at one more thing.  There's a simple way to look at the Developer class and learn what we need to know about it.  For example, what if this was part of program with thousands of lines and we needed to easily determine more about the Developer class.  Then running the below command will provide a lot of helpful output, including the following \"Methods inherited from Employee:...\"**"
   ]
  },
  {
   "cell_type": "code",
   "execution_count": 13,
   "metadata": {},
   "outputs": [],
   "source": [
    "#print(help(Developer))"
   ]
  },
  {
   "cell_type": "markdown",
   "metadata": {},
   "source": [
    "**Let's demonstrate some functionality.  We can show the apply_raise() functionality works on this subclass as well**"
   ]
  },
  {
   "cell_type": "code",
   "execution_count": 14,
   "metadata": {},
   "outputs": [
    {
     "name": "stdout",
     "output_type": "stream",
     "text": [
      "50000\n",
      "52000\n"
     ]
    }
   ],
   "source": [
    "print(dev_1.pay)\n",
    "dev_1.apply_raise()\n",
    "print(dev_1.pay)"
   ]
  },
  {
   "cell_type": "markdown",
   "metadata": {},
   "source": [
    "**But, let's assume now we want to give the Developers a raise of 10% rather than 4%.  We can do that by simply setting the raise_amt to be equal to 1.10 in the Developer class. Also, notice the pay of emp_2 has not changed - it is still at 60,000**"
   ]
  },
  {
   "cell_type": "code",
   "execution_count": 15,
   "metadata": {},
   "outputs": [
    {
     "name": "stdout",
     "output_type": "stream",
     "text": [
      "52000\n",
      "54080\n",
      "60000\n"
     ]
    }
   ],
   "source": [
    "class Developer(Employee):\n",
    "    raise_amt = 1.10\n",
    "\n",
    "print(dev_1.pay)\n",
    "dev_1.apply_raise()\n",
    "print(dev_1.pay)\n",
    "print(emp_2.pay) # Notice this is unchanged at 60000\n"
   ]
  },
  {
   "cell_type": "markdown",
   "metadata": {},
   "source": [
    "**Let's suppose we want to pass the Developer's main programming language as an attribute.  Now, that's clearly not as relevant for managers so we want this to be applicable to only the Developer class. We will do this by giving the Developer class its own \\_\\_init\\_\\_ method**"
   ]
  },
  {
   "cell_type": "code",
   "execution_count": 16,
   "metadata": {},
   "outputs": [
    {
     "name": "stdout",
     "output_type": "stream",
     "text": [
      "Python\n"
     ]
    }
   ],
   "source": [
    "class Developer(Employee):\n",
    "    raise_amt = 1.10\n",
    "    \n",
    "    def __init__(self, first, last, pay, prog_lang):\n",
    "        super().__init__(first,last,pay)\n",
    "        #Employee.__init__(self, first,last,pay) # this also works, but super is more clear\n",
    "        self.prog_lang = prog_lang\n",
    "\n",
    "dev_1 = Developer('George', 'Washington', 50000, 'Python')\n",
    "# emp_2 = Employee('Test','User',60000, 'Java') #notice this won't work because the Employee class does not have a prog_lang attribute\n",
    "\n",
    "print(dev_1.prog_lang) # This works as expected"
   ]
  },
  {
   "cell_type": "markdown",
   "metadata": {},
   "source": [
    "**In the above code, let's clarify what super() does.  We create an \\_\\_init\\_\\_ method (line 4) and plugged in all the same attributes (i.e. first, last, pay) as the Employee class.  In order for these to work we'll need to define them.  Recall, when we setup the Employee class we did the following: self.first = first \\n self.last = last.  We don't want to copy paste that code down here because that's not maintainable.  What we do instead is use super(), which tells Python to define those attributes to be the same as from the parent class (i.e. Employee).  Now, all we have to do is define the programming language**"
   ]
  },
  {
   "cell_type": "markdown",
   "metadata": {},
   "source": [
    "**Now, let's create another class called \"Manager\"**"
   ]
  },
  {
   "cell_type": "code",
   "execution_count": 17,
   "metadata": {},
   "outputs": [],
   "source": [
    "class Manager(Employee):\n",
    "    \n",
    "    def __init__(self, first, last, pay, employees=None):\n",
    "        super().__init__(first, last, pay)\n",
    "        if employees is None:\n",
    "            self.employees = []\n",
    "        else:\n",
    "            self.employees = employees\n",
    "    \n",
    "    def add_emp(self, emp):\n",
    "        if emp not in self.employees:\n",
    "            self.employees.append(emp)\n",
    "    \n",
    "    def remove_emp(self, emp):\n",
    "        if emp in self.employees:\n",
    "            self.employees.remove(emp)\n",
    "    \n",
    "    def print_emps(self):\n",
    "        for emp in self.employees:\n",
    "            print('-->', emp.fullname())"
   ]
  },
  {
   "cell_type": "markdown",
   "metadata": {},
   "source": [
    "**Let's test the new class**"
   ]
  },
  {
   "cell_type": "code",
   "execution_count": 18,
   "metadata": {},
   "outputs": [
    {
     "name": "stdout",
     "output_type": "stream",
     "text": [
      "Sue.Smith@company.com\n"
     ]
    }
   ],
   "source": [
    "mgr_1 = Manager('Sue','Smith',90000, [dev_1])\n",
    "print(mgr_1.email)"
   ]
  },
  {
   "cell_type": "markdown",
   "metadata": {},
   "source": [
    "**Let's create a new developer and add them to mgr_1**"
   ]
  },
  {
   "cell_type": "code",
   "execution_count": 19,
   "metadata": {},
   "outputs": [
    {
     "name": "stdout",
     "output_type": "stream",
     "text": [
      "--> George Washington\n",
      "--> Test Employee\n"
     ]
    }
   ],
   "source": [
    "dev_2 = Developer('Test','Employee',60000,'Java')\n",
    "\n",
    "mgr_1.add_emp(dev_2)\n",
    "mgr_1.print_emps()"
   ]
  },
  {
   "cell_type": "markdown",
   "metadata": {},
   "source": [
    "**And, let's remove the first developer (i.e dev_1)**"
   ]
  },
  {
   "cell_type": "code",
   "execution_count": 20,
   "metadata": {},
   "outputs": [
    {
     "name": "stdout",
     "output_type": "stream",
     "text": [
      "--> Test Employee\n"
     ]
    }
   ],
   "source": [
    "mgr_1.remove_emp(dev_1)\n",
    "mgr_1.print_emps()"
   ]
  },
  {
   "cell_type": "markdown",
   "metadata": {},
   "source": [
    "**Let's briefly look at isinstance and how it can help us when dealing with new code, or trying to better understand the hierarchy of classes.  The below code, demonstrates another easy to determine where mgr_1 fits into the overall structure.  We can see that mgr_1 is is instance of Employee and Manager, but not Developer**"
   ]
  },
  {
   "cell_type": "code",
   "execution_count": 21,
   "metadata": {},
   "outputs": [
    {
     "name": "stdout",
     "output_type": "stream",
     "text": [
      "True\n",
      "True\n",
      "False\n",
      "False\n"
     ]
    }
   ],
   "source": [
    "print(isinstance(mgr_1, Employee))\n",
    "print(isinstance(mgr_1, Manager))\n",
    "print(isinstance(mgr_1, Developer))\n",
    "\n",
    "# We can also run the below\n",
    "print(isinstance(Developer, Employee))"
   ]
  },
  {
   "cell_type": "markdown",
   "metadata": {},
   "source": [
    "## Python OOP Tutorial 5: Special (Magic/Dunder) Methods\n",
    "Link [here](https://www.youtube.com/watch?v=3ohzBxoFHAY)"
   ]
  },
  {
   "cell_type": "markdown",
   "metadata": {},
   "source": [
    "- **Here we're going to look at Special Methods we can use in our classes, sometimes referred to as Magic Methods**\n",
    "- Special methods are how we emulate built-in methods of Python\n",
    "- Also, how we implement operator overloading\n",
    "    - An example of this is below"
   ]
  },
  {
   "cell_type": "code",
   "execution_count": 22,
   "metadata": {},
   "outputs": [
    {
     "name": "stdout",
     "output_type": "stream",
     "text": [
      "3\n",
      "ab\n"
     ]
    }
   ],
   "source": [
    "print(1+2)\n",
    "print('a' + 'b')"
   ]
  },
  {
   "cell_type": "markdown",
   "metadata": {},
   "source": [
    "**The output above is interesting because the addition actually did two different things.  1+2 was added together as expected, but Python simply concatenated the strings. So, depending on what we're adding, the addition has different behavior**\n",
    "\n",
    "**Recall, when print a class all we receive is a generic, mostly unhelpful output about where the class is stored in memory.  It would be nice to change this functionality so we can receive output with more insight. By defining our own special methods we will be able to change some of this built-in behavior.**  \n",
    "\n",
    "**Special Methods always have the double underscore (__) notation.**\n",
    "\n",
    "**There are two special methods to introduce:**\n",
    "    1. __repr__ this should be an unambiguous representation of the object.  This is mainly intended for other developers. \n",
    "    2. __str__ this is meant to be more reader friendly representation of an object, and can be displayed to the end user"
   ]
  },
  {
   "cell_type": "code",
   "execution_count": 24,
   "metadata": {},
   "outputs": [
    {
     "name": "stdout",
     "output_type": "stream",
     "text": [
      "<__main__.Employee object at 0x110d201d0>\n"
     ]
    }
   ],
   "source": [
    "print(emp_1)"
   ]
  },
  {
   "cell_type": "code",
   "execution_count": 32,
   "metadata": {},
   "outputs": [
    {
     "name": "stdout",
     "output_type": "stream",
     "text": [
      "George Washington - George.Washington@company.com\n",
      "Employee('George','Washington',50000)\n",
      "George Washington - George.Washington@company.com\n"
     ]
    }
   ],
   "source": [
    "class Employee:\n",
    "    \n",
    "    raise_amt = 1.04\n",
    "    \n",
    "    def __init__(self, first, last, pay):\n",
    "        self.first = first\n",
    "        self.last = last\n",
    "        self.pay = pay\n",
    "        self.email = first + '.' + last + '@company.com'\n",
    "                \n",
    "    def fullname(self,):\n",
    "        return '{} {}'.format(self.first, self.last)\n",
    "\n",
    "    def apply_raise(self):\n",
    "        self.pay = int(self.pay * self.raise_amt) \n",
    "    \n",
    "    def __repr__(self):\n",
    "        return \"Employee('{}','{}',{})\".format(self.first, self.last, self.pay)\n",
    "    \n",
    "    def __str__(self): # This should be more readable\n",
    "        return '{} - {}'.format(self.fullname(), self.email)\n",
    "\n",
    "emp_1 = Employee('George','Washington',50000)\n",
    "\n",
    "# Now, we receive the first, last, and pay attributes as specified in the __repr__ method\n",
    "print(emp_1)\n",
    "\n",
    "# We can still access the __repr__ output via the below\n",
    "print(repr(emp_1))\n",
    "print(str(emp_1))"
   ]
  },
  {
   "cell_type": "markdown",
   "metadata": {},
   "source": [
    "**Let's look at exactly how that's working.  We can receive the exact same output by running the below**"
   ]
  },
  {
   "cell_type": "code",
   "execution_count": 33,
   "metadata": {},
   "outputs": [
    {
     "name": "stdout",
     "output_type": "stream",
     "text": [
      "Employee('George','Washington',50000)\n",
      "George Washington - George.Washington@company.com\n"
     ]
    }
   ],
   "source": [
    "print(emp_1.__repr__())\n",
    "print(emp_1.__str__())"
   ]
  },
  {
   "cell_type": "markdown",
   "metadata": {},
   "source": [
    "**Let's look go back and consider how two integers are added vs two characters/strings.  By running the below code, we can see that Python's adding operator is simply running dunder methods in the background**"
   ]
  },
  {
   "cell_type": "code",
   "execution_count": 34,
   "metadata": {},
   "outputs": [
    {
     "name": "stdout",
     "output_type": "stream",
     "text": [
      "3\n",
      "ab\n"
     ]
    }
   ],
   "source": [
    "print(int.__add__(1,2))\n",
    "print(str.__add__('a','b'))"
   ]
  },
  {
   "cell_type": "markdown",
   "metadata": {},
   "source": [
    "**One more example using len**"
   ]
  },
  {
   "cell_type": "code",
   "execution_count": 39,
   "metadata": {},
   "outputs": [
    {
     "name": "stdout",
     "output_type": "stream",
     "text": [
      "4\n",
      "4\n"
     ]
    }
   ],
   "source": [
    "print(len('test'))\n",
    "print('test'.__len__())"
   ]
  },
  {
   "cell_type": "markdown",
   "metadata": {},
   "source": [
    "**Now, let's assume we wanted to add the pay for two different employees.  Let's create a Dunder add method to do that.**"
   ]
  },
  {
   "cell_type": "code",
   "execution_count": 40,
   "metadata": {},
   "outputs": [
    {
     "name": "stdout",
     "output_type": "stream",
     "text": [
      "90000\n",
      "17\n"
     ]
    }
   ],
   "source": [
    "class Employee:\n",
    "    \n",
    "    raise_amt = 1.04\n",
    "    \n",
    "    def __init__(self, first, last, pay):\n",
    "        self.first = first\n",
    "        self.last = last\n",
    "        self.pay = pay\n",
    "        self.email = first + '.' + last + '@company.com'\n",
    "                \n",
    "    def fullname(self,):\n",
    "        return '{} {}'.format(self.first, self.last)\n",
    "\n",
    "    def apply_raise(self):\n",
    "        self.pay = int(self.pay * self.raise_amt) \n",
    "    \n",
    "    def __repr__(self):\n",
    "        return \"Employee('{}','{}',{})\".format(self.first, self.last, self.pay)\n",
    "    \n",
    "    def __str__(self): \n",
    "        return '{} - {}'.format(self.fullname(), self.email)\n",
    "    \n",
    "    def __add__(self, other):\n",
    "        return self.pay + other.pay\n",
    "    \n",
    "    def __len__(self):\n",
    "        return len(self.fullname())\n",
    "\n",
    "emp_1 = Employee('George','Washington',50000)\n",
    "emp_2 = Employee('Test','User',40000)\n",
    "\n",
    "print(emp_1 + emp_2) #Without the dunder add method, this would not work\n",
    "print(len(emp_1))\n"
   ]
  },
  {
   "cell_type": "markdown",
   "metadata": {},
   "source": [
    "## Python OOP Tutorial 6: Property Decorators - Getters, Setters, and Deleters\n",
    "Link [here](https://www.youtube.com/watch?v=jCzT9XFZ5bw)"
   ]
  },
  {
   "cell_type": "code",
   "execution_count": 41,
   "metadata": {},
   "outputs": [],
   "source": [
    "class Employee:\n",
    "    \n",
    "    raise_amt = 1.04\n",
    "    \n",
    "    def __init__(self, first, last):\n",
    "        self.first = first\n",
    "        self.last = last\n",
    "        self.email = first + '.' + last + '@company.com'\n",
    "                \n",
    "    def fullname(self,):\n",
    "        return '{} {}'.format(self.first, self.last)\n",
    "    \n",
    "emp_1 = Employee('George','Washington')"
   ]
  },
  {
   "cell_type": "markdown",
   "metadata": {},
   "source": [
    "**Let's assume we need to change the first name of the employee from George to John. We'll notice in the code below that the email is not correctly updated, but the fullname is updated.  This is because fullname returns the current first and last name; whereas, the email does not**"
   ]
  },
  {
   "cell_type": "code",
   "execution_count": 42,
   "metadata": {},
   "outputs": [
    {
     "name": "stdout",
     "output_type": "stream",
     "text": [
      "John\n",
      "George.Washington@company.com\n",
      "John Washington\n"
     ]
    }
   ],
   "source": [
    "emp_1.first = 'John'\n",
    "\n",
    "print(emp_1.first)\n",
    "print(emp_1.email) # This is not correctly updated\n",
    "print(emp_1.fullname()) # This is updated"
   ]
  },
  {
   "cell_type": "markdown",
   "metadata": {},
   "source": [
    "**The question is how do we have the email attribute automatically update so whenever the name is changed that the email updates.  One way to do this is to create a new method similar to fullname; however, this isn't the best option because then the code will break (i.e. anyone using it will have to change their code so it references the new method instead of an attribute) for whoever is currently using it (because we'd be deleting the self.email attribute and converting it to a method).**\n",
    "\n",
    "**This is where getters and setters (from Java) come into play - Python has property decorators to deal with this situation.**"
   ]
  },
  {
   "cell_type": "code",
   "execution_count": 48,
   "metadata": {},
   "outputs": [
    {
     "name": "stdout",
     "output_type": "stream",
     "text": [
      "Jim\n",
      "Jim Washington\n",
      "Jim.Washington@company.com\n"
     ]
    }
   ],
   "source": [
    "class Employee:\n",
    "    \n",
    "    raise_amt = 1.04\n",
    "    \n",
    "    def __init__(self, first, last):\n",
    "        self.first = first\n",
    "        self.last = last\n",
    "                \n",
    "    def fullname(self,):\n",
    "        return '{}.{}@company.com'.format(self.first, self.last)\n",
    "    \n",
    "    @property #this is a property decorator\n",
    "    def email(self,):\n",
    "        return '{} {}'.format(self.first, self.last)\n",
    "    \n",
    "emp_1 = Employee('George','Washington')\n",
    "emp_1.first = 'Jim'\n",
    "\n",
    "print(emp_1.first)\n",
    "print(emp_1.email) # This is correctly updated\n",
    "print(emp_1.fullname()) # This is updated"
   ]
  },
  {
   "cell_type": "markdown",
   "metadata": {},
   "source": [
    "**In the above code, where the @property method allows us to define email like its a method, but access it like it's an attribute (notice there are no parentheses after email in the print statement**"
   ]
  },
  {
   "cell_type": "markdown",
   "metadata": {},
   "source": [
    "**Let's look at setters**\n",
    "\n",
    "**Suppose we wanted to set the full name equal to a new name and have the update flow into the first and last name attributes**"
   ]
  },
  {
   "cell_type": "code",
   "execution_count": 56,
   "metadata": {},
   "outputs": [
    {
     "name": "stdout",
     "output_type": "stream",
     "text": [
      "George\n",
      "John\n",
      "Adams\n",
      "John Adams\n"
     ]
    }
   ],
   "source": [
    "class Employee:\n",
    "    \n",
    "    raise_amt = 1.04\n",
    "    \n",
    "    def __init__(self, first, last):\n",
    "        self.first = first\n",
    "        self.last = last\n",
    "    \n",
    "    @property\n",
    "    def fullname(self,):\n",
    "        return '{}.{}@company.com'.format(self.first, self.last)\n",
    "    \n",
    "    @property \n",
    "    def email(self,):\n",
    "        return '{} {}'.format(self.first, self.last)\n",
    "\n",
    "    @fullname.setter \n",
    "    def fullname(self, name): # the name value is the value we are trying to set\n",
    "        first, last = name.split(' ') # Split the full name on the space\n",
    "        self.first = first\n",
    "        self.last = last\n",
    "    \n",
    "\n",
    "emp_1 = Employee('George','Washington')\n",
    "print(emp_1.first)\n",
    "\n",
    "emp_1.fullname = 'John Adams'\n",
    "\n",
    "print(emp_1.first) # Notice the output has changed from George to John Adams\n",
    "print(emp_1.last)\n",
    "print(emp_1.email)\n",
    "\n",
    "\n"
   ]
  },
  {
   "cell_type": "markdown",
   "metadata": {},
   "source": [
    "**We can do a very similar process but for deleting.  Suppose we wanted to delete the fullname and then have some sort of clean up code which automatically removes all the other relevant information.  This is where deleters com into play**"
   ]
  },
  {
   "cell_type": "code",
   "execution_count": 59,
   "metadata": {},
   "outputs": [
    {
     "name": "stdout",
     "output_type": "stream",
     "text": [
      "Delete Name!\n",
      "None\n",
      "None\n",
      "None None\n"
     ]
    }
   ],
   "source": [
    "class Employee:\n",
    "    \n",
    "    raise_amt = 1.04\n",
    "    \n",
    "    def __init__(self, first, last):\n",
    "        self.first = first\n",
    "        self.last = last\n",
    "    \n",
    "    @property\n",
    "    def fullname(self,):\n",
    "        return '{}.{}@company.com'.format(self.first, self.last)\n",
    "    \n",
    "    @property \n",
    "    def email(self,):\n",
    "        return '{} {}'.format(self.first, self.last)\n",
    "\n",
    "    @fullname.deleter \n",
    "    def fullname(self): # the name value is the value we are trying to set\n",
    "        print('Delete Name!')\n",
    "        self.first = None\n",
    "        self.last = None\n",
    "\n",
    "emp_1 = Employee('George','Washington')   \n",
    "\n",
    "del emp_1.fullname\n",
    "\n",
    "print(emp_1.first) # Notice the names are now none, as specified in the @fullname.deleter\n",
    "print(emp_1.last)\n",
    "print(emp_1.email)\n"
   ]
  }
 ],
 "metadata": {
  "kernelspec": {
   "display_name": "Python 3",
   "language": "python",
   "name": "python3"
  },
  "language_info": {
   "codemirror_mode": {
    "name": "ipython",
    "version": 3
   },
   "file_extension": ".py",
   "mimetype": "text/x-python",
   "name": "python",
   "nbconvert_exporter": "python",
   "pygments_lexer": "ipython3",
   "version": "3.7.4"
  }
 },
 "nbformat": 4,
 "nbformat_minor": 2
}
