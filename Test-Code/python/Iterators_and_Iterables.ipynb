{
 "cells": [
  {
   "cell_type": "markdown",
   "metadata": {},
   "source": [
    "**The below notes are all taken from Corey Schafer's YouTube Tutorial which is posted on YouTube (link [here](https://www.youtube.com/watch?v=jTYiNjvnHZY))**"
   ]
  },
  {
   "cell_type": "markdown",
   "metadata": {},
   "source": [
    "## Python Tutorial: Iterators and Iterables - What Are They and How Do They Work?"
   ]
  },
  {
   "cell_type": "markdown",
   "metadata": {},
   "source": [
    "**As an opening comment, let's note that lists are iterables but are not iterators**"
   ]
  },
  {
   "cell_type": "code",
   "execution_count": 64,
   "metadata": {},
   "outputs": [
    {
     "name": "stdout",
     "output_type": "stream",
     "text": [
      "1\n",
      "2\n",
      "3\n",
      "['__add__', '__class__', '__contains__', '__delattr__', '__delitem__', '__dir__', '__doc__', '__eq__', '__format__', '__ge__', '__getattribute__', '__getitem__', '__gt__', '__hash__', '__iadd__', '__imul__', '__init__', '__init_subclass__', '__iter__', '__le__', '__len__', '__lt__', '__mul__', '__ne__', '__new__', '__reduce__', '__reduce_ex__', '__repr__', '__reversed__', '__rmul__', '__setattr__', '__setitem__', '__sizeof__', '__str__', '__subclasshook__', 'append', 'clear', 'copy', 'count', 'extend', 'index', 'insert', 'pop', 'remove', 'reverse', 'sort']\n"
     ]
    }
   ],
   "source": [
    "nums = [1,2,3]\n",
    "\n",
    "for num in nums:\n",
    "    print(num) # This works as expected\n",
    "\n",
    "print(dir(nums)) # notice the __iter__method"
   ]
  },
  {
   "cell_type": "markdown",
   "metadata": {},
   "source": [
    "**Based off the output, we can see this has the __iter__ method.  Something can be looped over if it has that dunder method (i.e. \\_\\_iter\\_\\_)**\n",
    "\n",
    "**What the for loop is doing in the background is calling the \\_\\_iter\\_\\_ on our object and returning an iterator that we can loop over**"
   ]
  },
  {
   "cell_type": "markdown",
   "metadata": {},
   "source": [
    "**Let's clarify some concepts and terminology:**\n",
    "- Something can be looped over if it has the dunder method \\_\\_iter\\_\\_\n",
    "- If we run the dunder \\_\\_iter\\_\\_ method on a list then it will return an iterator. Recall, lists are iterable but are not iterators\n",
    "- So what makes something an iterator?\n",
    "    - An iterator is an object with a state so that it remembers where it is during iteration  \n",
    "    - iterators get their next value from the dunder \\_\\_next\\_\\_ method  \n",
    "    - Notice the directory of list does not have a \\_\\_next\\_\\_ state so the object does not know how to get it's next value. So, lists does not have a state and does not know how to get its next value.  Therefore, lists are not iterators.\n",
    "    - We can further prove this by running 'print(next(nums))' which will throw an error stating, \"TyperError: list object is not an 'iterator'\". It throws an error because in the background it's trying to run the dunder \\_\\_next\\_\\_ method"
   ]
  },
  {
   "cell_type": "code",
   "execution_count": 97,
   "metadata": {},
   "outputs": [
    {
     "name": "stdout",
     "output_type": "stream",
     "text": [
      "<list_iterator object at 0x110df4990>\n",
      "['__class__', '__delattr__', '__dir__', '__doc__', '__eq__', '__format__', '__ge__', '__getattribute__', '__gt__', '__hash__', '__init__', '__init_subclass__', '__iter__', '__le__', '__length_hint__', '__lt__', '__ne__', '__new__', '__next__', '__reduce__', '__reduce_ex__', '__repr__', '__setattr__', '__setstate__', '__sizeof__', '__str__', '__subclasshook__']\n",
      "1\n",
      "2\n",
      "3\n"
     ]
    }
   ],
   "source": [
    "nums = [1,2,3]\n",
    "\n",
    "i_nums = iter(nums)\n",
    "#i_nums = nums.__iter__ # this is same as above\n",
    "\n",
    "print(i_nums) \n",
    "print(dir(i_nums)) # notice this has a __next__ method\n",
    "\n",
    "print(next(i_nums)) # We can see this prints the first value of the list\n",
    "print(next(i_nums)) # And it prints the next value, because it remembers its state\n",
    "print(next(i_nums)) # And it prints the next value\n",
    "#print(next(i_nums)) # This will throw an error because there are no more values to iterate over"
   ]
  },
  {
   "cell_type": "markdown",
   "metadata": {},
   "source": [
    "**So, let's go back and consider what a for loop is doing.  We can create a for loop from scratch by doing the following:**"
   ]
  },
  {
   "cell_type": "code",
   "execution_count": 101,
   "metadata": {},
   "outputs": [
    {
     "name": "stdout",
     "output_type": "stream",
     "text": [
      "1\n",
      "2\n",
      "3\n"
     ]
    }
   ],
   "source": [
    "i_nums = iter(nums)\n",
    "\n",
    "iterator = 0\n",
    "while iterator < len(nums):\n",
    "    try:\n",
    "        print(next(i_nums))\n",
    "        iterator += 1\n",
    "    except StopIteration:\n",
    "        break"
   ]
  },
  {
   "cell_type": "markdown",
   "metadata": {},
   "source": [
    "**To ensure we understand this, let's create a class that acts similar to the range function**\n",
    "- The class, MyRange, is an iterable because we can use it in a for loop.  It's also an iterator because it has the dunder \\_\\_next\\_\\_ method"
   ]
  },
  {
   "cell_type": "code",
   "execution_count": 109,
   "metadata": {},
   "outputs": [
    {
     "name": "stdout",
     "output_type": "stream",
     "text": [
      "1\n",
      "2\n",
      "3\n",
      "4\n",
      "1\n"
     ]
    }
   ],
   "source": [
    "class MyRange:\n",
    "    def __init__(self, start, end):\n",
    "        self.value = start\n",
    "        self.end = end\n",
    "    \n",
    "    def __iter__(self): \n",
    "        return self \n",
    "    \n",
    "    def __next__(self): # For a \n",
    "        if self.value >= self.end:\n",
    "            raise StopIteration\n",
    "        current = self.value\n",
    "        self.value +=1 \n",
    "        return current\n",
    "\n",
    "nums = MyRange(1,5)\n",
    "\n",
    "for num in nums:\n",
    "    print(num)\n",
    "\n",
    "nums = MyRange(1,5)\n",
    "print(next(nums)) # this works as expected, prints 1 because we \"reset\" the range by running MyRange again"
   ]
  },
  {
   "cell_type": "markdown",
   "metadata": {},
   "source": [
    "**Notes on the class MyRange:**\n",
    "- def \\_\\_iter\\_\\_(self): For something to be iterable it needs to have a dunder \\_\\_iter\\_\\_ method\n",
    "- def \\_\\_next\\_\\_(self): Our iter method has to return an object that has a dunder \\_\\_next\\_\\_ method"
   ]
  },
  {
   "cell_type": "code",
   "execution_count": 112,
   "metadata": {},
   "outputs": [
    {
     "name": "stdout",
     "output_type": "stream",
     "text": [
      "['__class__', '__delattr__', '__dict__', '__dir__', '__doc__', '__eq__', '__format__', '__ge__', '__getattribute__', '__gt__', '__hash__', '__init__', '__init_subclass__', '__iter__', '__le__', '__lt__', '__module__', '__ne__', '__new__', '__next__', '__reduce__', '__reduce_ex__', '__repr__', '__setattr__', '__sizeof__', '__str__', '__subclasshook__', '__weakref__']\n"
     ]
    }
   ],
   "source": [
    "print(dir(MyRange)) # Notice MyRange has __iter__ and __next__ methods"
   ]
  },
  {
   "cell_type": "markdown",
   "metadata": {},
   "source": [
    "## Generators\n",
    "- Generators are look like normal functions but instead of returning a result they yield a value. When it yields that value it keeps that state until the generator is run again and yields the next value.\n",
    "- Generators are iterators as well but the dunder \\_\\_iter\\_\\_ and \\_\\_dunder\\_\\_ next methods are created automatically\n",
    "- To demonstrate this, let's create a generator function that does the exact same thing as our MyRange class"
   ]
  },
  {
   "cell_type": "code",
   "execution_count": 113,
   "metadata": {},
   "outputs": [
    {
     "name": "stdout",
     "output_type": "stream",
     "text": [
      "1\n",
      "2\n",
      "3\n"
     ]
    }
   ],
   "source": [
    "def my_range(start, end): \n",
    "    current = start\n",
    "    while current < end:\n",
    "        yield current\n",
    "        current += 1\n",
    "\n",
    "nums = my_range(1,5)\n",
    "print(next(nums))\n",
    "print(next(nums))\n",
    "print(next(nums))"
   ]
  },
  {
   "cell_type": "markdown",
   "metadata": {},
   "source": [
    "**Notes on my_range:**\n",
    "- def my_range(start, end): We do not need \"self\" because this is not a class and we will not be working with specific instances"
   ]
  },
  {
   "cell_type": "markdown",
   "metadata": {},
   "source": [
    "## Return vs Print"
   ]
  },
  {
   "cell_type": "code",
   "execution_count": 108,
   "metadata": {},
   "outputs": [
    {
     "name": "stdout",
     "output_type": "stream",
     "text": [
      "I printed\n",
      "Now let us see what the values of f1 and f2 are\n",
      "None\n",
      "I returned\n"
     ]
    }
   ],
   "source": [
    "def function_that_prints():\n",
    "    print(\"I printed\")\n",
    "\n",
    "def function_that_returns():\n",
    "    return(\"I returned\")\n",
    "\n",
    "f1 = function_that_prints()\n",
    "f2 = function_that_returns()\n",
    "\n",
    "print(\"Now let us see what the values of f1 and f2 are\")\n",
    "print(f1)\n",
    "print(f2)"
   ]
  },
  {
   "cell_type": "code",
   "execution_count": null,
   "metadata": {},
   "outputs": [],
   "source": []
  }
 ],
 "metadata": {
  "kernelspec": {
   "display_name": "Python 3",
   "language": "python",
   "name": "python3"
  },
  "language_info": {
   "codemirror_mode": {
    "name": "ipython",
    "version": 3
   },
   "file_extension": ".py",
   "mimetype": "text/x-python",
   "name": "python",
   "nbconvert_exporter": "python",
   "pygments_lexer": "ipython3",
   "version": "3.7.4"
  }
 },
 "nbformat": 4,
 "nbformat_minor": 2
}
