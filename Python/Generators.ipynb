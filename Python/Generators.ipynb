{
 "cells": [
  {
   "cell_type": "markdown",
   "metadata": {},
   "source": [
    "## Python Tutorial: Generators - How to use them and the benefits you receive\n",
    "Notes are from Corey Schafer's YouTube videos  \n",
    "Link [here](https://www.youtube.com/watch?v=bD05uGo_sVI)"
   ]
  },
  {
   "cell_type": "markdown",
   "metadata": {},
   "source": [
    "**Let's start by creating a function that squares numbers.  After that, we'll look at how to make this function more robust by using a generator**"
   ]
  },
  {
   "cell_type": "code",
   "execution_count": 1,
   "metadata": {},
   "outputs": [
    {
     "name": "stdout",
     "output_type": "stream",
     "text": [
      "[1, 4, 9, 16, 25]\n"
     ]
    }
   ],
   "source": [
    "def square_numbers(nums):\n",
    "    result = []\n",
    "    for i in nums:\n",
    "        result.append(i * i)\n",
    "    return result\n",
    "\n",
    "my_nums = [1,2,3,4,5]\n",
    "\n",
    "print(square_numbers(my_nums)) # We can see the output prints the square of each number in my_nums"
   ]
  },
  {
   "cell_type": "markdown",
   "metadata": {},
   "source": [
    "**How would we convert this to be a generator?**"
   ]
  },
  {
   "cell_type": "code",
   "execution_count": 2,
   "metadata": {},
   "outputs": [
    {
     "name": "stdout",
     "output_type": "stream",
     "text": [
      "<generator object square_numbers at 0x1122a9f50>\n",
      "1\n"
     ]
    }
   ],
   "source": [
    "def square_numbers(nums):\n",
    "    for i in nums:\n",
    "        yield(i * i) # The yield keyword is what makes this a generator\n",
    "\n",
    "my_nums = square_numbers([1,2,3,4,5])\n",
    "\n",
    "print(my_nums) # Notice this prints an object instead of a list\n",
    "print(next(my_nums))"
   ]
  },
  {
   "cell_type": "markdown",
   "metadata": {},
   "source": [
    "- **The reason print(my_nums) does not print a list of numbers is because generators do not hold the entire result in memory. Instead it yields one result at a time. So, what the generator is doing is waiting for us to ask for the next result.**\n",
    "- **Technically, the generator has not calculated anything at this point since we have not asked it for anything.  However, when we explicitly call \"next(my_nums) then it will print since we have asked for something**\n",
    "-**This is further evidenced below**"
   ]
  },
  {
   "cell_type": "code",
   "execution_count": 3,
   "metadata": {},
   "outputs": [
    {
     "name": "stdout",
     "output_type": "stream",
     "text": [
      "4\n",
      "9\n",
      "16\n"
     ]
    }
   ],
   "source": [
    "print(next(my_nums))\n",
    "print(next(my_nums))\n",
    "print(next(my_nums)) # If we keep going then we'll get a \"StopIteration\" error"
   ]
  },
  {
   "cell_type": "markdown",
   "metadata": {},
   "source": [
    "**The generator could also be written as a list comprehension**"
   ]
  },
  {
   "cell_type": "code",
   "execution_count": 4,
   "metadata": {},
   "outputs": [
    {
     "data": {
      "text/plain": [
       "[1, 16, 81, 256, 625]"
      ]
     },
     "execution_count": 4,
     "metadata": {},
     "output_type": "execute_result"
    }
   ],
   "source": [
    "my_nums = square_numbers([1,2,3,4,5])\n",
    "\n",
    "[x*x for x in my_nums]"
   ]
  },
  {
   "cell_type": "markdown",
   "metadata": {},
   "source": [
    "**The List Comprehension can easily be turned into a generator by removing the brackets**"
   ]
  },
  {
   "cell_type": "code",
   "execution_count": 5,
   "metadata": {},
   "outputs": [
    {
     "name": "stdout",
     "output_type": "stream",
     "text": [
      "<generator object <genexpr> at 0x1122f11d0>\n",
      "1\n",
      "16\n",
      "81\n",
      "256\n",
      "625\n"
     ]
    }
   ],
   "source": [
    "my_nums = square_numbers([1,2,3,4,5])\n",
    "\n",
    "output = (x*x for x in my_nums) \n",
    "\n",
    "# Notice this prints an object instead of the actual output (i.e. 1,16,81) because output is a generator\n",
    "print(output) \n",
    "\n",
    "for i in output:\n",
    "    print(i)"
   ]
  },
  {
   "cell_type": "markdown",
   "metadata": {},
   "source": [
    "**Performance Differences: Lists vs Generators**\n",
    "- In this section we'll look at how much memory lists use vs generators, and how much time each takes to process"
   ]
  },
  {
   "cell_type": "code",
   "execution_count": 13,
   "metadata": {},
   "outputs": [],
   "source": [
    "import memory_profiler as mem_profile\n",
    "import random\n",
    "from time import process_time \n"
   ]
  },
  {
   "cell_type": "code",
   "execution_count": 7,
   "metadata": {},
   "outputs": [],
   "source": [
    "names = ['John','Corey','Steve','Rick','Thomas']\n",
    "majors = ['Math','Engineering','CompSci','Arts','Business']\n",
    "\n",
    "def people_list(num_people):\n",
    "    result = []\n",
    "    for i in range(num_people):\n",
    "        person = {\n",
    "            'id': i,\n",
    "            'name': random.choice(names),\n",
    "            'major': random.choice(majors)\n",
    "        }\n",
    "        result.append(person)\n",
    "    return result\n",
    "\n",
    "def people_generator(num_people):\n",
    "    for i in range(num_people):\n",
    "        person = {\n",
    "            'id': i,\n",
    "            'name': randon.choice(names),\n",
    "            'majors': random.choice(majors)\n",
    "        }\n",
    "        yield person"
   ]
  },
  {
   "cell_type": "markdown",
   "metadata": {},
   "source": [
    "**Due to lazy evaluation, notice the generator takes almost no time to run and uses almost no memory**"
   ]
  },
  {
   "cell_type": "code",
   "execution_count": 14,
   "metadata": {},
   "outputs": [
    {
     "name": "stdout",
     "output_type": "stream",
     "text": [
      "Memory (Before): [51.6796875]MB\n",
      "Memory (After) : [51.6796875]MB\n",
      "0.0021540000000008774\n"
     ]
    }
   ],
   "source": [
    "print('Memory (Before): ' + str(mem_profile.memory_usage()) + 'MB' )\n",
    "\n",
    "t1 = process_time()  \n",
    "people = people_generator(1000000)\n",
    "print('Memory (After) : ' + str(mem_profile.memory_usage()) + 'MB')\n",
    "t2 = process_time()\n",
    "\n",
    "print(t2-t1)\n",
    "del people"
   ]
  },
  {
   "cell_type": "markdown",
   "metadata": {},
   "source": [
    "**Compare the generator to a list which uses approximatley 300 Mb for a list of 1,000,000 items and takes over 3 seconds to process**"
   ]
  },
  {
   "cell_type": "code",
   "execution_count": 15,
   "metadata": {},
   "outputs": [
    {
     "name": "stdout",
     "output_type": "stream",
     "text": [
      "Memory (Before): [51.6796875]MB\n",
      "Memory (After) : [341.52734375]MB\n",
      "3.289580000000001\n"
     ]
    }
   ],
   "source": [
    "print('Memory (Before): ' + str(mem_profile.memory_usage()) + 'MB' )\n",
    "\n",
    "t1 = process_time()  \n",
    "people = people_list(1000000)\n",
    "print('Memory (After) : ' + str(mem_profile.memory_usage()) + 'MB')\n",
    "t2 = process_time()\n",
    "print(t2-t1)\n",
    "del people"
   ]
  },
  {
   "cell_type": "code",
   "execution_count": null,
   "metadata": {},
   "outputs": [],
   "source": []
  },
  {
   "cell_type": "code",
   "execution_count": null,
   "metadata": {},
   "outputs": [],
   "source": []
  }
 ],
 "metadata": {
  "kernelspec": {
   "display_name": "Python 3",
   "language": "python",
   "name": "python3"
  },
  "language_info": {
   "codemirror_mode": {
    "name": "ipython",
    "version": 3
   },
   "file_extension": ".py",
   "mimetype": "text/x-python",
   "name": "python",
   "nbconvert_exporter": "python",
   "pygments_lexer": "ipython3",
   "version": "3.7.4"
  }
 },
 "nbformat": 4,
 "nbformat_minor": 2
}
