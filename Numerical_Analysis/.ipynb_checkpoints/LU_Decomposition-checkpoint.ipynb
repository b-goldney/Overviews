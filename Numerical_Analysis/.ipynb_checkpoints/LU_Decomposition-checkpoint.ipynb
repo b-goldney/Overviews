{
 "cells": [
  {
   "cell_type": "code",
   "execution_count": 23,
   "metadata": {},
   "outputs": [],
   "source": [
    "def pivot(a):\n",
    "    a_len = len(a)\n",
    "\n",
    "    # Identity matrix                                                                                                                                                                                      \n",
    "    id_mat = np.identity(a_len)\n",
    "\n",
    "    # Rearrange id_mat                                                                                                                                                                                              \n",
    "    for j in range(0,a_len):\n",
    "        row = max(range(j, a_len), key=lambda i: abs(a[i][j]))\n",
    "        if j != row:\n",
    "            # Swap the rows                                                                                                                                                                                                                            \n",
    "            id_mat[j], id_mat[row] = id_mat[row], id_mat[j]\n",
    "            \n",
    "    return id_mat\n",
    "\n",
    "def lu_decomposition(A):\n",
    "    n = len(A)\n",
    "\n",
    "    # Initialize L and U                                                                                                                                                                                                            \n",
    "    L = [[0.0] * n for i in range(0,n)]\n",
    "    U = [[0.0] * n for i in range(0,n)]\n",
    "\n",
    "    # call pivot() on A                                                                                                                                                                                            \n",
    "    P = pivot(A)\n",
    "    PA = np.matmul(P, A)\n",
    "\n",
    "    # Actual LU decomposition formula                                                                                                                                                                                                                    \n",
    "    for i in range(0,n):\n",
    "        # Identity matrix                                                                                                                                                                                            \n",
    "        L[i][i] = 1.0\n",
    "\n",
    "        # formula for LU                                                                                                                                                                                   \n",
    "        for j in range(0,i+1):\n",
    "            s1 = sum(U[k][i] * L[j][k] for k in range(0,j))\n",
    "            U[j][i] = PA[j][i] - s1\n",
    "\n",
    "        # formula for LU                                                                                                                                                                    \n",
    "        for k in range(i, n):\n",
    "            s2 = sum(U[m][i] * L[k][m] for m in range(0,i))\n",
    "            L[k][i] = (PA[j][k] - s2) / U[i][i]\n",
    "\n",
    "    return (L, U)"
   ]
  },
  {
   "cell_type": "code",
   "execution_count": 24,
   "metadata": {},
   "outputs": [
    {
     "name": "stdout",
     "output_type": "stream",
     "text": [
      "L:\n",
      "[[1.0, 0.0, 0.0, 0.0], [0.42857142857142855, 1.0, 0.0, 0.0], [-0.14285714285714285, 0.2127659574468085, 1.0, 0.0], [0.2857142857142857, -0.7234042553191489, 0.0898203592814371, 1.0]]\n",
      "U:\n",
      "[[7.0, 3.0, -1.0, 2.0], [0.0, 6.714285714285714, 1.4285714285714286, -4.857142857142857], [0.0, 0.0, 3.5531914893617023, 0.31914893617021267], [0.0, 0.0, 0.0, 1.88622754491018]]\n"
     ]
    }
   ],
   "source": [
    "A = [[7, 3, -1, 2], [3, 8, 1, -4], [-1, 1, 4, -1], [2, -4, -1, 6]]\n",
    "L, U = lu_decomposition(A)\n",
    "\n",
    "print(\"L:\")\n",
    "print(L)\n",
    "\n",
    "print(\"U:\")\n",
    "print(U)"
   ]
  },
  {
   "cell_type": "markdown",
   "metadata": {},
   "source": [
    "**Confirm we get the original matrix back**"
   ]
  },
  {
   "cell_type": "code",
   "execution_count": 25,
   "metadata": {},
   "outputs": [
    {
     "data": {
      "text/plain": [
       "array([[ 7.,  3., -1.,  2.],\n",
       "       [ 3.,  8.,  1., -4.],\n",
       "       [-1.,  1.,  4., -1.],\n",
       "       [ 2., -4., -1.,  6.]])"
      ]
     },
     "execution_count": 25,
     "metadata": {},
     "output_type": "execute_result"
    }
   ],
   "source": [
    "np.matmul(L,U)"
   ]
  },
  {
   "cell_type": "code",
   "execution_count": null,
   "metadata": {},
   "outputs": [],
   "source": []
  }
 ],
 "metadata": {
  "kernelspec": {
   "display_name": "Python 3",
   "language": "python",
   "name": "python3"
  },
  "toc": {
   "base_numbering": 1,
   "nav_menu": {},
   "number_sections": true,
   "sideBar": true,
   "skip_h1_title": true,
   "title_cell": "Table of Contents",
   "title_sidebar": "Contents",
   "toc_cell": false,
   "toc_position": {},
   "toc_section_display": true,
   "toc_window_display": true
  },
  "varInspector": {
   "cols": {
    "lenName": 16,
    "lenType": 16,
    "lenVar": 40
   },
   "kernels_config": {
    "python": {
     "delete_cmd_postfix": "",
     "delete_cmd_prefix": "del ",
     "library": "var_list.py",
     "varRefreshCmd": "print(var_dic_list())"
    },
    "r": {
     "delete_cmd_postfix": ") ",
     "delete_cmd_prefix": "rm(",
     "library": "var_list.r",
     "varRefreshCmd": "cat(var_dic_list()) "
    }
   },
   "types_to_exclude": [
    "module",
    "function",
    "builtin_function_or_method",
    "instance",
    "_Feature"
   ],
   "window_display": false
  }
 },
 "nbformat": 4,
 "nbformat_minor": 4
}
