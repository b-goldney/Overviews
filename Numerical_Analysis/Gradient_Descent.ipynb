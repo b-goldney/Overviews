{
 "cells": [
  {
   "cell_type": "markdown",
   "metadata": {},
   "source": [
    "# Introduction\n",
    "- Add introduction here"
   ]
  },
  {
   "cell_type": "code",
   "execution_count": null,
   "metadata": {},
   "outputs": [],
   "source": []
  },
  {
   "cell_type": "code",
   "execution_count": 3,
   "metadata": {},
   "outputs": [],
   "source": [
    "# the cell below is needed to enable equation numbering"
   ]
  },
  {
   "cell_type": "code",
   "execution_count": 1,
   "metadata": {},
   "outputs": [
    {
     "data": {
      "application/javascript": [
       "MathJax.Hub.Config({\n",
       "    TeX: { equationNumbers: { autoNumber: \"AMS\" } }\n",
       "});\n"
      ],
      "text/plain": [
       "<IPython.core.display.Javascript object>"
      ]
     },
     "metadata": {},
     "output_type": "display_data"
    }
   ],
   "source": [
    "%%javascript\n",
    "MathJax.Hub.Config({\n",
    "    TeX: { equationNumbers: { autoNumber: \"AMS\" } }\n",
    "});"
   ]
  },
  {
   "cell_type": "markdown",
   "metadata": {},
   "source": [
    "# Gradient Descent"
   ]
  },
  {
   "cell_type": "markdown",
   "metadata": {},
   "source": [
    "We're going to explore gradient descent via example.  We'll use the following function: \n",
    "$$\n",
    "\\begin{align}\n",
    "    f(x,y) = x^2+3y^2\n",
    "\\end{align}\n",
    "$$\n",
    "which has a gradient of:\n",
    "$$\n",
    "\\begin{align}\n",
    "    \\nabla f &= \\dfrac{\\partial f}{\\partial x} \\hat x + \\dfrac{\\partial f}{\\partial y} \\hat y \\\\\n",
    "             &= 2x \\hat x + 6y \\hat y\n",
    "\\end{align}\n",
    "$$\n",
    "\n",
    "$\\hat x$ and $\\hat y$ are unit vectors in the $x$ and $y$ direction, respectively.\n",
    "\n",
    "\n",
    "**How do we want to move on the gradient?**  \n",
    "We want to move opposite of the gradient because the gradient moves away from the minimum.\n",
    "\n",
    "**Formula we need to determine our next \"guess\" for the minimum**\n",
    "$$\n",
    "\\begin{align}\n",
    "    \\zeta(\\tau) = \\vec x - \\tau \\nabla f(\\vec x)\n",
    "\\end{align}\n",
    "$$\n",
    "In words, this means our next point is our current point minus $\\tau \\nabla f(\\hat x)$. We are subtracting here because we want to move against the gradient.  $\\tau$ determines how much/how far we are going to move.\n",
    "\n",
    "**How do we determine $\\tau \\,$?**  \n",
    "> **Step 1:** Let's define a new equation:\n",
    "\n",
    "$$\n",
    "\\begin{align}\n",
    "    F(\\tau) \\, &= \\, f(\\zeta(\\tau)) \\\\\n",
    "\\end{align}\n",
    "$$\n",
    "> **Step 2:**  Since we are seeking to find the minimum we are looking for where the derivative equals 0. We will apply the chain rule to our equation $F(\\tau)$.\n",
    "\n",
    "$$\n",
    "\\begin{align}\n",
    "&= \\dfrac{\\partial F}{\\partial \\tau} = - \\nabla f(\\zeta) \\nabla f (\\vec x) \\\\\n",
    "               &= 0\n",
    "\\end{align}\n",
    "$$\n",
    "\n",
    "> **Step 3:** Let's solve for $\\xi$\n",
    "$$\n",
    "\\begin{align}\n",
    "    \\xi &= \\vec x - \\tau \\nabla f (\\vec x) \\\\\n",
    "    &= \\vec x - 2x \\hat x \\tau - 6y \\hat y \\tau \\\\\n",
    "    &= (1-2\\tau)x \\hat x + (1-6\\tau) y \\hat y \\\\\n",
    "\\end{align}\n",
    "$$\n",
    "\n",
    "> **Step 4:** Plug this into equation (5) and find $\\tau$. \n",
    "$$\n",
    "\\begin{align}\n",
    "    F(t) &= f(\\vec \\xi(\\tau)) \\\\\n",
    "        &= (1-2\\tau)^2 x^2 + 3(1-6 \\tau)^2 y^2\n",
    "\\end{align}\n",
    "$$\n",
    "To find equation 11, we simply plugged equation (9) into our given equation (i.e. equation (1)).  \n",
    "\n",
    "> **Step 5:** Let's take the derivative of $F(\\tau)$ and set it equal to 0. \n",
    "$$\n",
    "\\begin{align}\n",
    "    F'(\\tau) &= -4 (1-2\\tau)x^2 - 36(1-6\\tau) y^2 = 0\n",
    "\\end{align}\n",
    "$$\n",
    "\n",
    "> **Step 6:** Solve for $\\tau$\n",
    "$$\n",
    "\\begin{align}\n",
    "    \\tau = \\dfrac{x^2 - 9y^2}{2x^2 + 54 y^2}\n",
    "\\end{align}\n",
    "$$\n",
    "\n",
    "> **Step 7:** Plug $\\tau$ into equation (4)."
   ]
  },
  {
   "cell_type": "markdown",
   "metadata": {},
   "source": [
    "# Gradient Descent on Sample Function\n",
    "- This code will generate a 3D graph.  The surface area of the function is shown along with the initial guess and path of the gradient descent to find the minimum"
   ]
  },
  {
   "cell_type": "code",
   "execution_count": 2,
   "metadata": {},
   "outputs": [],
   "source": [
    "# This is needed to make 3D plot interactive\n",
    "%matplotlib qt\n",
    "\n",
    "from mpl_toolkits import mplot3d\n",
    "import matplotlib.pyplot as plt"
   ]
  },
  {
   "cell_type": "code",
   "execution_count": 3,
   "metadata": {},
   "outputs": [],
   "source": [
    "# Create meshgrid and function values\n",
    "x = np.arange(-3,3,0.1)\n",
    "y = np.arange(-3,3,0.1)\n",
    "X,Y = np.meshgrid(x,y)\n",
    "\n",
    "# Function: x^2 + 3y^2\n",
    "Z = X**2 + (3*Y**2)"
   ]
  },
  {
   "cell_type": "code",
   "execution_count": 4,
   "metadata": {},
   "outputs": [],
   "source": [
    "# Create lists to track values of inputs (i.e. x and y) and output (i.e. our_function)\n",
    "x_values = []\n",
    "y_values = []\n",
    "our_function_values = []\n",
    "\n",
    "# Create our_function\n",
    "def our_function(x,y):\n",
    "    return x**2 + (3*y**2)\n",
    "\n",
    "#initial guess\n",
    "x_values.append(2)\n",
    "y_values.append(2)\n",
    "our_function_values.append(our_function(x_values[0], y_values[0]))\n",
    "\n",
    "for i in range(0,100):\n",
    "    tau = (x_values[i]**2 + 9*y_values[i]**2) / (2*x_values[i]**2 + 54*y_values[i]**2) #equation 14\n",
    "    x_values.append((1-2*tau) * x_values[i])\n",
    "    y_values.append((1-6*tau) * y_values[i])\n",
    "    our_function_values.append(x_values[i+1]**2 + 3*y_values[i+1]**2)\n",
    "    \n",
    "    if abs(our_function_values[i+1] - our_function_values[i]) < 10**(-6):\n",
    "        break"
   ]
  },
  {
   "cell_type": "code",
   "execution_count": 5,
   "metadata": {},
   "outputs": [],
   "source": [
    "# Plot the surface in 3D and a line of our gradient descnt\n",
    "ax = plt.axes(projection='3d') # Create 3d plot object\n",
    "\n",
    "# Create our plot space (i.e. x and y axis, plus the output of our function)\n",
    "ax.plot_surface(X, Y, Z, rstride=1, cstride=1, cmap='viridis', edgecolor='none',alpha=.3)\n",
    "\n",
    "#ax.scatter(x_values,y_values,our_function_values, alpha=1, c='black', s=40) # this plots our gradient descent \n",
    "ax.plot(x_values,y_values,our_function_values, 'bo',linestyle='dashed') # this plots our gradient descent \n",
    "ax.set_title('surface');\n",
    "\n",
    "# Clear background\n",
    "ax.patch.set_facecolor('white')\n",
    "ax.grid(False) # clear grid\n",
    "ax.w_xaxis.pane.fill = False\n",
    "ax.w_yaxis.pane.fill = False\n",
    "ax.w_zaxis.pane.fill = False\n",
    "\n",
    "# Axix labels\n",
    "ax.set_xlabel('X Axis')\n",
    "ax.set_ylabel('Y Axis')\n",
    "ax.set_zlabel('Z Axis')\n",
    "\n",
    "plt.show() # this will create a pop-up box with an interactive 3D plot"
   ]
  },
  {
   "cell_type": "markdown",
   "metadata": {},
   "source": [
    "For .html versions of the notebook, a non-interactice screenshot of the plot is here"
   ]
  },
  {
   "cell_type": "code",
   "execution_count": 6,
   "metadata": {},
   "outputs": [
    {
     "data": {
      "image/png": "[encoded data removed]",
      "text/plain": [
       "<IPython.core.display.Image object>"
      ]
     },
     "metadata": {},
     "output_type": "display_data"
    }
   ],
   "source": [
    "from IPython.display import Image \n",
    "pil_img = Image(filename='images/gradient_descent.png')\n",
    "display(pil_img)"
   ]
  },
  {
   "cell_type": "markdown",
   "metadata": {},
   "source": [
    "# MCMC Gradient Descent\n",
    "- This is a recommended approach from Nick Polson (U. Chicago)"
   ]
  },
  {
   "cell_type": "code",
   "execution_count": null,
   "metadata": {},
   "outputs": [],
   "source": []
  },
  {
   "cell_type": "code",
   "execution_count": null,
   "metadata": {},
   "outputs": [],
   "source": []
  }
 ],
 "metadata": {
  "kernelspec": {
   "display_name": "Python 3",
   "language": "python",
   "name": "python3"
  },
  "language_info": {
   "codemirror_mode": {
    "name": "ipython",
    "version": 3
   },
   "file_extension": ".py",
   "mimetype": "text/x-python",
   "name": "python",
   "nbconvert_exporter": "python",
   "pygments_lexer": "ipython3",
   "version": "3.8.3"
  },
  "toc": {
   "base_numbering": 1,
   "nav_menu": {},
   "number_sections": true,
   "sideBar": true,
   "skip_h1_title": false,
   "title_cell": "Table of Contents",
   "title_sidebar": "Contents",
   "toc_cell": false,
   "toc_position": {},
   "toc_section_display": true,
   "toc_window_display": true
  },
  "varInspector": {
   "cols": {
    "lenName": 16,
    "lenType": 16,
    "lenVar": 40
   },
   "kernels_config": {
    "python": {
     "delete_cmd_postfix": "",
     "delete_cmd_prefix": "del ",
     "library": "var_list.py",
     "varRefreshCmd": "print(var_dic_list())"
    },
    "r": {
     "delete_cmd_postfix": ") ",
     "delete_cmd_prefix": "rm(",
     "library": "var_list.r",
     "varRefreshCmd": "cat(var_dic_list()) "
    }
   },
   "position": {
    "height": "495.646px",
    "left": "1548.33px",
    "right": "20px",
    "top": "125px",
    "width": "367.312px"
   },
   "types_to_exclude": [
    "module",
    "function",
    "builtin_function_or_method",
    "instance",
    "_Feature"
   ],
   "window_display": true
  }
 },
 "nbformat": 4,
 "nbformat_minor": 4
}
