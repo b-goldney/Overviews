{
 "cells": [
  {
   "cell_type": "markdown",
   "metadata": {},
   "source": [
    "# Introduction"
   ]
  },
  {
   "cell_type": "markdown",
   "metadata": {},
   "source": [
    "- The purpose of this notebook is to demonstrate the various least squares methods for the canonical equation $Ax=b$\n",
    "- The equation $Ax=b$ has many interesting applications in modern data science; however, we are often not dealing with the standard $n \\times n$ matrix that is utilized in introductory linear algebra courses\n",
    "- After an introductory example using an invertible matrix, we will tackle more complex $n \\times m$ matrices that are not invertible\n",
    "- Background material:\n",
    "    - Review some introductory Linear Algebra methods such as $SVD$ in the notebook: <NOTEBOOK_NAME>"
   ]
  },
  {
   "cell_type": "markdown",
   "metadata": {},
   "source": [
    "# Example: System with an Invertible Matrix\n",
    "- The notes for this section were partially driven by the article: [Math for Machines: Least Squares with the Moore-Penrose Inverse](https://mathformachines.com/posts/least-squares-with-the-mp-inverse/)\n",
    "- This example will demonstrate how we can apply several different methods to achieve the same results for $x1$ and $x2$ in a basic $2x2$ matrix.\n",
    "- The system of equations will be:"
   ]
  },
  {
   "cell_type": "markdown",
   "metadata": {},
   "source": [
    "$$\n",
    "\\begin{align}\n",
    "x_1 - \\frac{1}{2}x_2 =1 \\\\\n",
    "-\\frac{1}{2}x_1 + x_2 = -1\n",
    "\\end{align}\n",
    "$$"
   ]
  },
  {
   "cell_type": "markdown",
   "metadata": {},
   "source": [
    "## Matrix Inverse via Gaussian Elimination"
   ]
  },
  {
   "cell_type": "markdown",
   "metadata": {},
   "source": [
    "Let's solve a simple system of equations. This example is a system with an invertible matrix. We can find the inverse of A, and then solving we find $x_1 = \\frac{2}{3}$ and $x_2 = -\\frac{2}{3}$. \n",
    "First, let's create matrix $A$, which is simply the system of equations in augmented matrix form. Recall, the inverse, $A^{-1}$, can be found by applying Gaussian Elimination to $A$ and then multiplying by $b$"
   ]
  },
  {
   "cell_type": "markdown",
   "metadata": {},
   "source": [
    "$$\\begin{align}\n",
    "A = \\begin{bmatrix} 1 & -\\frac{1}{2} \\\\ \\frac{1}{2} & 1\\end{bmatrix} \\,, A^{-1} = \\begin{bmatrix} \\frac{4}{3} & \\frac{2}{3} \\\\ \\frac{2}{3} & \\frac{4}{3}\\end{bmatrix}\n",
    "\\end{align}$$"
   ]
  },
  {
   "cell_type": "markdown",
   "metadata": {},
   "source": [
    "$$\\begin{align}\n",
    "x = A^{-1}b &= \\begin{bmatrix} \\frac{4}{3} & \\frac{2}{3} \\\\ \\frac{2}{3} & \\frac{4}{3}\\end{bmatrix} \\begin{bmatrix} 1 \\\\ -1 \\end{bmatrix} \\\\ \n",
    "&= \\begin{bmatrix} \\frac{2}{3} \\\\ -\\frac{2}{3}\\end{bmatrix}\n",
    "\\end{align}$$"
   ]
  },
  {
   "cell_type": "markdown",
   "metadata": {},
   "source": [
    "## SVD\n",
    "-[Medium: Least Squares Linear Regression In Python](https://towardsdatascience.com/least-squares-linear-regression-in-python-54b87fc49e77)"
   ]
  },
  {
   "cell_type": "code",
   "execution_count": 1,
   "metadata": {},
   "outputs": [],
   "source": [
    "y = [1,-1] # create y values\n",
    "A = np.array([[1., -0.5], [-0.5, 1]]) # create matrix A"
   ]
  },
  {
   "cell_type": "code",
   "execution_count": 11,
   "metadata": {},
   "outputs": [
    {
     "data": {
      "text/plain": [
       "array([ 0.66666667, -0.66666667])"
      ]
     },
     "execution_count": 11,
     "metadata": {},
     "output_type": "execute_result"
    }
   ],
   "source": [
    "u, s, vh = np.linalg.svd(A, full_matrices=True)\n",
    "D_plus = np.diag(np.hstack([1/s[:1], np.zeros(2-1)]))\n",
    "v = vh.T\n",
    "X_plus = v.dot(D_plus).dot(u.T)\n",
    "w = X_plus.dot(y)\n",
    "w"
   ]
  },
  {
   "cell_type": "markdown",
   "metadata": {},
   "source": [
    "## Moore-Penrose (MP)\n",
    "- [What is the Pseudo-Inverse or A^dagger?](https://www.youtube.com/watch?v=EeY5a5who_s)\n",
    "- [Using the Moore-Penrose Pseudoinverse to Solve Linear Equations](https://www.youtube.com/watch?v=5bxsxM2UTb4)\n",
    "- Moore-Penrose solves the least-squares problem for an over-determined system of equations (i.e. m>n, rows > columns)\n",
    "    - The notation\n",
    "- $A^\\dagger \\, A = I$ however $A \\, A^\\dagger \\ne I$\n",
    "     - Unless A has the usual inverse\n"
   ]
  },
  {
   "cell_type": "markdown",
   "metadata": {},
   "source": [
    "How can we solve the least squares problem using MP?\n",
    "$$\n",
    "\\begin{align}\n",
    "\\vec{b} &= A\\vec{x} \\\\\n",
    "A^\\dagger \\vec{b} &= A^\\dagger A \\vec{x} \\\\\n",
    "A^\\dagger \\vec{b} &= I \\vec{x} \\\\\n",
    "A^\\dagger \\vec{b} &= \\vec{x}\n",
    "\\end{align}\n",
    "$$\n",
    "\n",
    "We used the canonical equation $A\\vec{x} = \\vec{b}$ and then introduced the MP variable and we were able to isolate $x$.  The code below demonstrates that we receive the anticipated output."
   ]
  },
  {
   "cell_type": "code",
   "execution_count": 723,
   "metadata": {},
   "outputs": [
    {
     "data": {
      "text/plain": [
       "array([0.67, -0.67])"
      ]
     },
     "execution_count": 723,
     "metadata": {},
     "output_type": "execute_result"
    }
   ],
   "source": [
    "# this is the same as A^\\dagger b = x\n",
    "np.linalg.pinv([[1,-0.5],[-0.5,1]]) @ [1,-1] # \"@\" is the same as np.matmul"
   ]
  },
  {
   "cell_type": "markdown",
   "metadata": {},
   "source": [
    "## Programatic Solution Using np.linalg.inv"
   ]
  },
  {
   "cell_type": "code",
   "execution_count": 506,
   "metadata": {},
   "outputs": [],
   "source": [
    "# set numpy print options\n",
    "np.set_printoptions(formatter={'float': lambda x: \"{0:0.2f}\".format(x)})"
   ]
  },
  {
   "cell_type": "code",
   "execution_count": 520,
   "metadata": {},
   "outputs": [],
   "source": [
    "y = [1,-1] # create y values\n",
    "A = np.array([[1., -0.5], [-0.5, 1]]) # create matrix A\n",
    "A_inv = np.linalg.inv(A) # calculate inverse"
   ]
  },
  {
   "cell_type": "code",
   "execution_count": 521,
   "metadata": {},
   "outputs": [
    {
     "data": {
      "text/plain": [
       "array([0.67, -0.67])"
      ]
     },
     "execution_count": 521,
     "metadata": {},
     "output_type": "execute_result"
    }
   ],
   "source": [
    "np.matmul(A_inv,y) # this output matches"
   ]
  },
  {
   "cell_type": "markdown",
   "metadata": {},
   "source": [
    "## sklearn LinearRegression().fit() "
   ]
  },
  {
   "cell_type": "code",
   "execution_count": 540,
   "metadata": {},
   "outputs": [],
   "source": [
    "import numpy as np\n",
    "import matplotlib.pyplot as plt\n",
    "\n",
    "# Create data\n",
    "X = np.array([[1, -0.5], [-0.5, 1]])\n",
    "y = [1,-1]"
   ]
  },
  {
   "cell_type": "code",
   "execution_count": 542,
   "metadata": {},
   "outputs": [
    {
     "data": {
      "text/plain": [
       "array([0.67, -0.67])"
      ]
     },
     "execution_count": 542,
     "metadata": {},
     "output_type": "execute_result"
    }
   ],
   "source": [
    "# Sklearn\n",
    "from sklearn.linear_model import LinearRegression\n",
    "reg = LinearRegression(fit_intercept=False).fit(X,y)\n",
    "reg.coef_"
   ]
  },
  {
   "cell_type": "markdown",
   "metadata": {},
   "source": [
    "# Example 2: Singular Matrix (i.e. not invertible)"
   ]
  },
  {
   "cell_type": "code",
   "execution_count": 673,
   "metadata": {},
   "outputs": [],
   "source": [
    "# Generate x values via linspace\n",
    "x = np.linspace(start = 0, stop = 4, num=100)"
   ]
  },
  {
   "cell_type": "code",
   "execution_count": 674,
   "metadata": {},
   "outputs": [],
   "source": [
    "# Create y-values (i.e. output)\n",
    "y_values = []\n",
    "mu, sigma = 0, 0.1\n",
    "\n",
    "for i in x:\n",
    "    y_values.append((i**2)+ np.random.normal(mu,sigma)) # x values + random number with mean = 0 and sigma = 0.1"
   ]
  },
  {
   "cell_type": "code",
   "execution_count": 675,
   "metadata": {},
   "outputs": [
    {
     "data": {
      "image/png": "[encoded data removed]",
      "text/plain": [
       "<Figure size 432x288 with 1 Axes>"
      ]
     },
     "metadata": {
      "needs_background": "light"
     },
     "output_type": "display_data"
    }
   ],
   "source": [
    "# Create plot\n",
    "plt.plot(np.linspace(start = 0, stop = 4, num=100), y_values)\n",
    "plt.title('$f(x) = x^2 + N(0, \\sigma)$')\n",
    "plt.xlabel('X-axis'), plt.ylabel('Y-axis')\n",
    "plt.show()"
   ]
  },
  {
   "cell_type": "code",
   "execution_count": 714,
   "metadata": {},
   "outputs": [],
   "source": [
    "# Create matrix A (a 100x20 matrix) where each row is a 20 term polynomial\n",
    "A = np.ndarray(shape=(100,20), dtype=float) # initialize matrix\n",
    "\n",
    "for i in range(0,20):\n",
    "    for j in range(0,100):\n",
    "        A[j,i] = x[j]**(i)"
   ]
  },
  {
   "cell_type": "code",
   "execution_count": 717,
   "metadata": {},
   "outputs": [],
   "source": [
    "#pd.DataFrame(A)"
   ]
  },
  {
   "cell_type": "code",
   "execution_count": 720,
   "metadata": {},
   "outputs": [
    {
     "data": {
      "text/plain": [
       "array([0.07, -3.35, 28.06, -81.00, 77.99, 27.12, -65.42, -29.62, 55.58,\n",
       "       31.39, -55.83, -14.07, 64.98, -55.45, 26.05, -7.77, 1.51, -0.19,\n",
       "       0.01, -0.00])"
      ]
     },
     "execution_count": 720,
     "metadata": {},
     "output_type": "execute_result"
    }
   ],
   "source": [
    "(np.linalg.pinv(A) * y_values)[:,47]"
   ]
  },
  {
   "cell_type": "code",
   "execution_count": 705,
   "metadata": {},
   "outputs": [
    {
     "data": {
      "text/plain": [
       "array([[0.07],\n",
       "       [0.15],\n",
       "       [-9.54],\n",
       "       [55.00],\n",
       "       [-107.58],\n",
       "       [70.51],\n",
       "       [44.89],\n",
       "       [-72.30],\n",
       "       [-20.61],\n",
       "       [70.64],\n",
       "       [-10.62],\n",
       "       [-59.89],\n",
       "       [68.60],\n",
       "       [-39.86],\n",
       "       [14.66],\n",
       "       [-3.60],\n",
       "       [0.59],\n",
       "       [-0.06],\n",
       "       [0.00],\n",
       "       [-0.00]])"
      ]
     },
     "execution_count": 705,
     "metadata": {},
     "output_type": "execute_result"
    }
   ],
   "source": [
    "reg = LinearRegression(fit_intercept=False).fit(A, y_values)\n",
    "sk_coefs = reg.coef_.reshape(-1,1)\n",
    "sk_coefs"
   ]
  },
  {
   "cell_type": "code",
   "execution_count": 687,
   "metadata": {},
   "outputs": [],
   "source": [
    "def least_squares(mu, sigma, j, x, A, j2):\n",
    "    fn = np.zeros((j,1))\n",
    "    \n",
    "    for i in range(0, j):\n",
    "        fn[i] = (x[i]**2 + np.random.normal(mu, sigma))\n",
    "    \n",
    "    coeffs1 = []\n",
    "    for i in range(0, j2):\n",
    "        an = np.matmul(np.linalg.pinv(A), fn)\n",
    "        coeffs1.append(an[i][0])\n",
    "    \n",
    "    # Sklearn\n",
    "    from sklearn.linear_model import LinearRegression\n",
    "    reg = LinearRegression(fit_intercept=False).fit(A, fn)\n",
    "    sk_coefs = reg.coef_.reshape(-1,1)\n",
    "    \n",
    "    return [coeffs1, sk_coefs]"
   ]
  },
  {
   "cell_type": "code",
   "execution_count": 688,
   "metadata": {},
   "outputs": [],
   "source": [
    "test = least_squares(mu, sigma, 100, x, A, 20)\n"
   ]
  },
  {
   "cell_type": "code",
   "execution_count": 691,
   "metadata": {},
   "outputs": [
    {
     "name": "stdout",
     "output_type": "stream",
     "text": [
      "0 :  0.1712428707468744     0.2281173571717213 \n",
      "\n",
      "1 :  -4.833165342183369     -8.491939956738417 \n",
      "\n",
      "2 :  28.956405949506106     69.0598411592217 \n",
      "\n",
      "3 :  -61.45916989032648     -228.30982779543498 \n",
      "\n",
      "4 :  43.474680931583066     355.2267835197443 \n",
      "\n",
      "5 :  25.003361210325174     -186.24403433879715 \n",
      "\n",
      "6 :  -33.31075008633522     -153.22357667087826 \n",
      "\n",
      "7 :  -22.40489962363602     197.45431348545293 \n",
      "\n",
      "8 :  26.129290174069837     70.76688808675172 \n",
      "\n",
      "9 :  20.53311791788773     -196.85256610570423 \n",
      "\n"
     ]
    }
   ],
   "source": [
    "for i in range(0, 10):\n",
    "    print(i,\": \", test[0][i], \"   \", test[1][i][0], \"\\n\")"
   ]
  },
  {
   "cell_type": "code",
   "execution_count": 431,
   "metadata": {},
   "outputs": [],
   "source": [
    "coeffs1 = least_squares(mu, sigma, 100, x, A, 20)\n",
    "coeffs2 = least_squares(mu, sigma, 100, x, A, 20)\n",
    "coeffs3 = least_squares(mu, sigma, 100, x, A, 20)\n",
    "coeffs4 = least_squares(mu, sigma, 100, x, A, 20)\n",
    "\n",
    "x_range = range(0,20)"
   ]
  },
  {
   "cell_type": "code",
   "execution_count": 432,
   "metadata": {},
   "outputs": [
    {
     "data": {
      "image/png": "[encoded data removed]",
      "text/plain": [
       "<Figure size 432x288 with 4 Axes>"
      ]
     },
     "metadata": {
      "needs_background": "light"
     },
     "output_type": "display_data"
    }
   ],
   "source": [
    "fig, axs = plt.subplots(2, 2)\n",
    "axs[0,0].bar(x_range,coeffs1)\n",
    "axs[0,1].bar(x_range,coeffs2)\n",
    "axs[1,0].bar(x_range,coeffs3)\n",
    "axs[1,1].bar(x_range,coeffs4)\n",
    "\n",
    "fig.suptitle('Plot of Coefficients')\n",
    "\n",
    "\n",
    "for ax in axs.flat:\n",
    "    ax.set(xlabel='polynomial term #', ylabel='coefficient value')\n",
    "    \n",
    "plt.show()"
   ]
  },
  {
   "cell_type": "markdown",
   "metadata": {},
   "source": [
    "## Matrix Inverse via Gaussian Elimination"
   ]
  },
  {
   "cell_type": "code",
   "execution_count": null,
   "metadata": {},
   "outputs": [],
   "source": []
  },
  {
   "cell_type": "markdown",
   "metadata": {},
   "source": [
    "## LU Decomposition"
   ]
  },
  {
   "cell_type": "code",
   "execution_count": null,
   "metadata": {},
   "outputs": [],
   "source": []
  },
  {
   "cell_type": "markdown",
   "metadata": {},
   "source": [
    "## Cholesky Decomposition"
   ]
  },
  {
   "cell_type": "code",
   "execution_count": null,
   "metadata": {},
   "outputs": [],
   "source": []
  },
  {
   "cell_type": "markdown",
   "metadata": {},
   "source": [
    "## Moore-Penrose (MP)"
   ]
  },
  {
   "cell_type": "code",
   "execution_count": null,
   "metadata": {},
   "outputs": [],
   "source": []
  },
  {
   "cell_type": "markdown",
   "metadata": {},
   "source": [
    "## Programatic Solution Using np.linalg.inv"
   ]
  },
  {
   "cell_type": "code",
   "execution_count": null,
   "metadata": {},
   "outputs": [],
   "source": []
  },
  {
   "cell_type": "markdown",
   "metadata": {},
   "source": [
    "## sklearn LinearRegression.fit()"
   ]
  },
  {
   "cell_type": "code",
   "execution_count": null,
   "metadata": {},
   "outputs": [],
   "source": []
  },
  {
   "cell_type": "markdown",
   "metadata": {},
   "source": [
    "# Bayesian Least Squares Approach\n",
    "- Let's solve the same system of equations from sections 2 and 3 using Bayesian Statistics"
   ]
  },
  {
   "cell_type": "markdown",
   "metadata": {},
   "source": [
    "## System with an Invertible Matrix"
   ]
  },
  {
   "cell_type": "code",
   "execution_count": null,
   "metadata": {},
   "outputs": [],
   "source": []
  },
  {
   "cell_type": "markdown",
   "metadata": {},
   "source": [
    "## System without an Invertible Matrix"
   ]
  },
  {
   "cell_type": "code",
   "execution_count": null,
   "metadata": {},
   "outputs": [],
   "source": []
  }
 ],
 "metadata": {
  "kernelspec": {
   "display_name": "Python 3",
   "language": "python",
   "name": "python3"
  },
  "language_info": {
   "codemirror_mode": {
    "name": "ipython",
    "version": 3
   },
   "file_extension": ".py",
   "mimetype": "text/x-python",
   "name": "python",
   "nbconvert_exporter": "python",
   "pygments_lexer": "ipython3",
   "version": "3.8.3"
  },
  "toc": {
   "base_numbering": 1,
   "nav_menu": {},
   "number_sections": false,
   "sideBar": true,
   "skip_h1_title": false,
   "title_cell": "Table of Contents",
   "title_sidebar": "Contents",
   "toc_cell": false,
   "toc_position": {
    "height": "calc(100% - 180px)",
    "left": "10px",
    "top": "150px",
    "width": "377.333px"
   },
   "toc_section_display": true,
   "toc_window_display": true
  },
  "varInspector": {
   "cols": {
    "lenName": 16,
    "lenType": 16,
    "lenVar": 40
   },
   "kernels_config": {
    "python": {
     "delete_cmd_postfix": "",
     "delete_cmd_prefix": "del ",
     "library": "var_list.py",
     "varRefreshCmd": "print(var_dic_list())"
    },
    "r": {
     "delete_cmd_postfix": ") ",
     "delete_cmd_prefix": "rm(",
     "library": "var_list.r",
     "varRefreshCmd": "cat(var_dic_list()) "
    }
   },
   "position": {
    "height": "495.646px",
    "left": "1548.33px",
    "right": "20px",
    "top": "125px",
    "width": "367.312px"
   },
   "types_to_exclude": [
    "module",
    "function",
    "builtin_function_or_method",
    "instance",
    "_Feature"
   ],
   "window_display": true
  }
 },
 "nbformat": 4,
 "nbformat_minor": 4
}
